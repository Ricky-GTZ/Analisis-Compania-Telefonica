{
 "cells": [
  {
   "cell_type": "markdown",
   "metadata": {
    "id": "3rYiDeEH0q0f"
   },
   "source": [
    "# ¿Cuál es la mejor tarifa?\n",
    "\n",
    "Trabajas como analista para el operador de telecomunicaciones Megaline. La empresa ofrece a sus clientes dos tarifas de prepago, Surf y Ultimate. El departamento comercial quiere saber cuál de las tarifas genera más ingresos para poder ajustar el presupuesto de publicidad.\n",
    "\n",
    "Vas a realizar un análisis preliminar de las tarifas basado en una selección de clientes relativamente pequeña. Tendrás los datos de 500 clientes de Megaline: quiénes son los clientes, de dónde son, qué tarifa usan, así como la cantidad de llamadas que hicieron y los mensajes de texto que enviaron en 2018. Tu trabajo es analizar el comportamiento de los clientes y determinar qué tarifa de prepago genera más ingresos."
   ]
  },
  {
   "cell_type": "markdown",
   "metadata": {
    "id": "MQi4IPy70q0y"
   },
   "source": [
    "## Inicialización"
   ]
  },
  {
   "cell_type": "code",
   "execution_count": 1,
   "metadata": {
    "id": "MtYIuBxu0q0z"
   },
   "outputs": [],
   "source": [
    "# Cargar todas las librerías\n",
    "from scipy import stats as st\n",
    "import numpy as np\n",
    "import pandas as pd\n",
    "import matplotlib.pyplot as plt\n",
    "import seaborn as sns\n",
    "import math \n"
   ]
  },
  {
   "cell_type": "markdown",
   "metadata": {
    "id": "4ysWWC5i0q00"
   },
   "source": [
    "## Cargar datos"
   ]
  },
  {
   "cell_type": "code",
   "execution_count": 2,
   "metadata": {
    "id": "CCqPW7rS0q01"
   },
   "outputs": [],
   "source": [
    "# Carga los archivos de datos en diferentes DataFrames\n",
    "\n",
    "df_calls = pd.read_csv('megaline_calls.csv')\n",
    "\n",
    "df_internet = pd.read_csv('megaline_internet.csv')\n",
    "\n",
    "df_messages = pd.read_csv('megaline_messages.csv')\n",
    "\n",
    "df_plans = pd.read_csv('megaline_plans.csv')\n",
    "\n",
    "df_users = pd.read_csv('megaline_users.csv')\n"
   ]
  },
  {
   "cell_type": "markdown",
   "metadata": {
    "id": "69qqoJ3r0q01"
   },
   "source": [
    "## Preparar los datos"
   ]
  },
  {
   "cell_type": "markdown",
   "metadata": {
    "id": "ohBhimvH0q01"
   },
   "source": [
    "## Tarifas"
   ]
  },
  {
   "cell_type": "code",
   "execution_count": 3,
   "metadata": {
    "id": "GptqP3Q40q02",
    "scrolled": true
   },
   "outputs": [
    {
     "name": "stdout",
     "output_type": "stream",
     "text": [
      "<class 'pandas.core.frame.DataFrame'>\n",
      "RangeIndex: 2 entries, 0 to 1\n",
      "Data columns (total 8 columns):\n",
      " #   Column                 Non-Null Count  Dtype  \n",
      "---  ------                 --------------  -----  \n",
      " 0   messages_included      2 non-null      int64  \n",
      " 1   mb_per_month_included  2 non-null      int64  \n",
      " 2   minutes_included       2 non-null      int64  \n",
      " 3   usd_monthly_pay        2 non-null      int64  \n",
      " 4   usd_per_gb             2 non-null      int64  \n",
      " 5   usd_per_message        2 non-null      float64\n",
      " 6   usd_per_minute         2 non-null      float64\n",
      " 7   plan_name              2 non-null      object \n",
      "dtypes: float64(2), int64(5), object(1)\n",
      "memory usage: 260.0+ bytes\n"
     ]
    }
   ],
   "source": [
    "# Imprime la información general/resumida sobre el DataFrame de las tarifas\n",
    "\n",
    "df_plans.info()"
   ]
  },
  {
   "cell_type": "code",
   "execution_count": 4,
   "metadata": {
    "id": "64xzjwL70q02"
   },
   "outputs": [
    {
     "data": {
      "text/html": [
       "<div>\n",
       "<style scoped>\n",
       "    .dataframe tbody tr th:only-of-type {\n",
       "        vertical-align: middle;\n",
       "    }\n",
       "\n",
       "    .dataframe tbody tr th {\n",
       "        vertical-align: top;\n",
       "    }\n",
       "\n",
       "    .dataframe thead th {\n",
       "        text-align: right;\n",
       "    }\n",
       "</style>\n",
       "<table border=\"1\" class=\"dataframe\">\n",
       "  <thead>\n",
       "    <tr style=\"text-align: right;\">\n",
       "      <th></th>\n",
       "      <th>messages_included</th>\n",
       "      <th>mb_per_month_included</th>\n",
       "      <th>minutes_included</th>\n",
       "      <th>usd_monthly_pay</th>\n",
       "      <th>usd_per_gb</th>\n",
       "      <th>usd_per_message</th>\n",
       "      <th>usd_per_minute</th>\n",
       "      <th>plan_name</th>\n",
       "    </tr>\n",
       "  </thead>\n",
       "  <tbody>\n",
       "    <tr>\n",
       "      <th>0</th>\n",
       "      <td>50</td>\n",
       "      <td>15360</td>\n",
       "      <td>500</td>\n",
       "      <td>20</td>\n",
       "      <td>10</td>\n",
       "      <td>0.03</td>\n",
       "      <td>0.03</td>\n",
       "      <td>surf</td>\n",
       "    </tr>\n",
       "    <tr>\n",
       "      <th>1</th>\n",
       "      <td>1000</td>\n",
       "      <td>30720</td>\n",
       "      <td>3000</td>\n",
       "      <td>70</td>\n",
       "      <td>7</td>\n",
       "      <td>0.01</td>\n",
       "      <td>0.01</td>\n",
       "      <td>ultimate</td>\n",
       "    </tr>\n",
       "  </tbody>\n",
       "</table>\n",
       "</div>"
      ],
      "text/plain": [
       "   messages_included  mb_per_month_included  minutes_included  \\\n",
       "0                 50                  15360               500   \n",
       "1               1000                  30720              3000   \n",
       "\n",
       "   usd_monthly_pay  usd_per_gb  usd_per_message  usd_per_minute plan_name  \n",
       "0               20          10             0.03            0.03      surf  \n",
       "1               70           7             0.01            0.01  ultimate  "
      ]
     },
     "execution_count": 4,
     "metadata": {},
     "output_type": "execute_result"
    }
   ],
   "source": [
    "# Imprime una muestra de los datos para las tarifas\n",
    "df_plans.head()\n"
   ]
  },
  {
   "cell_type": "markdown",
   "metadata": {
    "id": "mEc_3_hs0q02"
   },
   "source": [
    "Los datos en la tabla estan en un formato correcto, hay 5 columnas con numeros enteros y 2 con numeros flotantes, ademas de la columna de los planes con datos object"
   ]
  },
  {
   "cell_type": "markdown",
   "metadata": {
    "id": "R3C05i1l0q03"
   },
   "source": [
    "## Corregir datos"
   ]
  },
  {
   "cell_type": "code",
   "execution_count": 5,
   "metadata": {
    "id": "Y7SVmjGn0q03"
   },
   "outputs": [
    {
     "data": {
      "text/html": [
       "<div>\n",
       "<style scoped>\n",
       "    .dataframe tbody tr th:only-of-type {\n",
       "        vertical-align: middle;\n",
       "    }\n",
       "\n",
       "    .dataframe tbody tr th {\n",
       "        vertical-align: top;\n",
       "    }\n",
       "\n",
       "    .dataframe thead th {\n",
       "        text-align: right;\n",
       "    }\n",
       "</style>\n",
       "<table border=\"1\" class=\"dataframe\">\n",
       "  <thead>\n",
       "    <tr style=\"text-align: right;\">\n",
       "      <th></th>\n",
       "      <th>messages_included</th>\n",
       "      <th>gb_per_month_included</th>\n",
       "      <th>minutes_included</th>\n",
       "      <th>usd_monthly_pay</th>\n",
       "      <th>usd_per_gb</th>\n",
       "      <th>usd_per_message</th>\n",
       "      <th>usd_per_minute</th>\n",
       "      <th>plan_name</th>\n",
       "    </tr>\n",
       "  </thead>\n",
       "  <tbody>\n",
       "    <tr>\n",
       "      <th>0</th>\n",
       "      <td>50</td>\n",
       "      <td>15.0</td>\n",
       "      <td>500</td>\n",
       "      <td>20</td>\n",
       "      <td>10</td>\n",
       "      <td>0.03</td>\n",
       "      <td>0.03</td>\n",
       "      <td>surf</td>\n",
       "    </tr>\n",
       "    <tr>\n",
       "      <th>1</th>\n",
       "      <td>1000</td>\n",
       "      <td>30.0</td>\n",
       "      <td>3000</td>\n",
       "      <td>70</td>\n",
       "      <td>7</td>\n",
       "      <td>0.01</td>\n",
       "      <td>0.01</td>\n",
       "      <td>ultimate</td>\n",
       "    </tr>\n",
       "  </tbody>\n",
       "</table>\n",
       "</div>"
      ],
      "text/plain": [
       "   messages_included  gb_per_month_included  minutes_included  \\\n",
       "0                 50                   15.0               500   \n",
       "1               1000                   30.0              3000   \n",
       "\n",
       "   usd_monthly_pay  usd_per_gb  usd_per_message  usd_per_minute plan_name  \n",
       "0               20          10             0.03            0.03      surf  \n",
       "1               70           7             0.01            0.01  ultimate  "
      ]
     },
     "execution_count": 5,
     "metadata": {},
     "output_type": "execute_result"
    }
   ],
   "source": [
    "# cambio de la columna mb per month a gb per month\n",
    "\n",
    "df_plans = df_plans.rename(columns={'mb_per_month_included': 'gb_per_month_included'})\n",
    "\n",
    "df_plans['gb_per_month_included'] = df_plans['gb_per_month_included']/1024\n",
    " \n",
    "df_plans.head()\n"
   ]
  },
  {
   "cell_type": "markdown",
   "metadata": {
    "id": "LJir7bml0q03"
   },
   "source": [
    "## Enriquecer los datos"
   ]
  },
  {
   "cell_type": "markdown",
   "metadata": {},
   "source": [
    "En el codigo anterior se modificó la columna de mb per month dividiendola entre 1024 y cambiando su nombre para obtener los gb per month"
   ]
  },
  {
   "cell_type": "markdown",
   "metadata": {
    "id": "1n2X6WXf0q04"
   },
   "source": [
    "## Usuarios/as"
   ]
  },
  {
   "cell_type": "code",
   "execution_count": 6,
   "metadata": {
    "id": "2NgjWFqx0q05"
   },
   "outputs": [
    {
     "name": "stdout",
     "output_type": "stream",
     "text": [
      "<class 'pandas.core.frame.DataFrame'>\n",
      "RangeIndex: 500 entries, 0 to 499\n",
      "Data columns (total 8 columns):\n",
      " #   Column      Non-Null Count  Dtype \n",
      "---  ------      --------------  ----- \n",
      " 0   user_id     500 non-null    int64 \n",
      " 1   first_name  500 non-null    object\n",
      " 2   last_name   500 non-null    object\n",
      " 3   age         500 non-null    int64 \n",
      " 4   city        500 non-null    object\n",
      " 5   reg_date    500 non-null    object\n",
      " 6   plan        500 non-null    object\n",
      " 7   churn_date  34 non-null     object\n",
      "dtypes: int64(2), object(6)\n",
      "memory usage: 31.4+ KB\n"
     ]
    }
   ],
   "source": [
    "# Imprime la información general/resumida sobre el DataFrame de usuarios\n",
    "\n",
    "df_users.info()"
   ]
  },
  {
   "cell_type": "code",
   "execution_count": 7,
   "metadata": {
    "id": "1IN1L9uh0q05"
   },
   "outputs": [
    {
     "data": {
      "text/html": [
       "<div>\n",
       "<style scoped>\n",
       "    .dataframe tbody tr th:only-of-type {\n",
       "        vertical-align: middle;\n",
       "    }\n",
       "\n",
       "    .dataframe tbody tr th {\n",
       "        vertical-align: top;\n",
       "    }\n",
       "\n",
       "    .dataframe thead th {\n",
       "        text-align: right;\n",
       "    }\n",
       "</style>\n",
       "<table border=\"1\" class=\"dataframe\">\n",
       "  <thead>\n",
       "    <tr style=\"text-align: right;\">\n",
       "      <th></th>\n",
       "      <th>user_id</th>\n",
       "      <th>first_name</th>\n",
       "      <th>last_name</th>\n",
       "      <th>age</th>\n",
       "      <th>city</th>\n",
       "      <th>reg_date</th>\n",
       "      <th>plan</th>\n",
       "      <th>churn_date</th>\n",
       "    </tr>\n",
       "  </thead>\n",
       "  <tbody>\n",
       "    <tr>\n",
       "      <th>0</th>\n",
       "      <td>1000</td>\n",
       "      <td>Anamaria</td>\n",
       "      <td>Bauer</td>\n",
       "      <td>45</td>\n",
       "      <td>Atlanta-Sandy Springs-Roswell, GA MSA</td>\n",
       "      <td>2018-12-24</td>\n",
       "      <td>ultimate</td>\n",
       "      <td>NaN</td>\n",
       "    </tr>\n",
       "    <tr>\n",
       "      <th>1</th>\n",
       "      <td>1001</td>\n",
       "      <td>Mickey</td>\n",
       "      <td>Wilkerson</td>\n",
       "      <td>28</td>\n",
       "      <td>Seattle-Tacoma-Bellevue, WA MSA</td>\n",
       "      <td>2018-08-13</td>\n",
       "      <td>surf</td>\n",
       "      <td>NaN</td>\n",
       "    </tr>\n",
       "    <tr>\n",
       "      <th>2</th>\n",
       "      <td>1002</td>\n",
       "      <td>Carlee</td>\n",
       "      <td>Hoffman</td>\n",
       "      <td>36</td>\n",
       "      <td>Las Vegas-Henderson-Paradise, NV MSA</td>\n",
       "      <td>2018-10-21</td>\n",
       "      <td>surf</td>\n",
       "      <td>NaN</td>\n",
       "    </tr>\n",
       "    <tr>\n",
       "      <th>3</th>\n",
       "      <td>1003</td>\n",
       "      <td>Reynaldo</td>\n",
       "      <td>Jenkins</td>\n",
       "      <td>52</td>\n",
       "      <td>Tulsa, OK MSA</td>\n",
       "      <td>2018-01-28</td>\n",
       "      <td>surf</td>\n",
       "      <td>NaN</td>\n",
       "    </tr>\n",
       "    <tr>\n",
       "      <th>4</th>\n",
       "      <td>1004</td>\n",
       "      <td>Leonila</td>\n",
       "      <td>Thompson</td>\n",
       "      <td>40</td>\n",
       "      <td>Seattle-Tacoma-Bellevue, WA MSA</td>\n",
       "      <td>2018-05-23</td>\n",
       "      <td>surf</td>\n",
       "      <td>NaN</td>\n",
       "    </tr>\n",
       "  </tbody>\n",
       "</table>\n",
       "</div>"
      ],
      "text/plain": [
       "   user_id first_name  last_name  age                                   city  \\\n",
       "0     1000   Anamaria      Bauer   45  Atlanta-Sandy Springs-Roswell, GA MSA   \n",
       "1     1001     Mickey  Wilkerson   28        Seattle-Tacoma-Bellevue, WA MSA   \n",
       "2     1002     Carlee    Hoffman   36   Las Vegas-Henderson-Paradise, NV MSA   \n",
       "3     1003   Reynaldo    Jenkins   52                          Tulsa, OK MSA   \n",
       "4     1004    Leonila   Thompson   40        Seattle-Tacoma-Bellevue, WA MSA   \n",
       "\n",
       "     reg_date      plan churn_date  \n",
       "0  2018-12-24  ultimate        NaN  \n",
       "1  2018-08-13      surf        NaN  \n",
       "2  2018-10-21      surf        NaN  \n",
       "3  2018-01-28      surf        NaN  \n",
       "4  2018-05-23      surf        NaN  "
      ]
     },
     "execution_count": 7,
     "metadata": {},
     "output_type": "execute_result"
    }
   ],
   "source": [
    "# Imprime una muestra de datos para usuarios\n",
    "df_users.head()\n"
   ]
  },
  {
   "cell_type": "markdown",
   "metadata": {
    "id": "dCZoUq4f0q06"
   },
   "source": [
    "En este dataframe, hay datos tipo object y para la edad es tipo int, en la colunma churn date, existen datos faltantes, sin embargo es correcto por que contiene la fecha para los usuarios que han dejado de usar el servicio.\n"
   ]
  },
  {
   "cell_type": "markdown",
   "metadata": {
    "id": "o7MeKCid0q08"
   },
   "source": [
    "## Llamadas"
   ]
  },
  {
   "cell_type": "code",
   "execution_count": 8,
   "metadata": {
    "id": "6dDlnoDm0q08"
   },
   "outputs": [
    {
     "name": "stdout",
     "output_type": "stream",
     "text": [
      "<class 'pandas.core.frame.DataFrame'>\n",
      "RangeIndex: 137735 entries, 0 to 137734\n",
      "Data columns (total 4 columns):\n",
      " #   Column     Non-Null Count   Dtype  \n",
      "---  ------     --------------   -----  \n",
      " 0   id         137735 non-null  object \n",
      " 1   user_id    137735 non-null  int64  \n",
      " 2   call_date  137735 non-null  object \n",
      " 3   duration   137735 non-null  float64\n",
      "dtypes: float64(1), int64(1), object(2)\n",
      "memory usage: 4.2+ MB\n"
     ]
    }
   ],
   "source": [
    "# Imprimir la información general/resumida sobre el DataFrame de las llamadas\n",
    "df_calls.info()\n"
   ]
  },
  {
   "cell_type": "code",
   "execution_count": 9,
   "metadata": {
    "id": "kuh1vlNB0q09"
   },
   "outputs": [
    {
     "data": {
      "text/html": [
       "<div>\n",
       "<style scoped>\n",
       "    .dataframe tbody tr th:only-of-type {\n",
       "        vertical-align: middle;\n",
       "    }\n",
       "\n",
       "    .dataframe tbody tr th {\n",
       "        vertical-align: top;\n",
       "    }\n",
       "\n",
       "    .dataframe thead th {\n",
       "        text-align: right;\n",
       "    }\n",
       "</style>\n",
       "<table border=\"1\" class=\"dataframe\">\n",
       "  <thead>\n",
       "    <tr style=\"text-align: right;\">\n",
       "      <th></th>\n",
       "      <th>id</th>\n",
       "      <th>user_id</th>\n",
       "      <th>call_date</th>\n",
       "      <th>duration</th>\n",
       "    </tr>\n",
       "  </thead>\n",
       "  <tbody>\n",
       "    <tr>\n",
       "      <th>0</th>\n",
       "      <td>1000_93</td>\n",
       "      <td>1000</td>\n",
       "      <td>2018-12-27</td>\n",
       "      <td>8.52</td>\n",
       "    </tr>\n",
       "    <tr>\n",
       "      <th>1</th>\n",
       "      <td>1000_145</td>\n",
       "      <td>1000</td>\n",
       "      <td>2018-12-27</td>\n",
       "      <td>13.66</td>\n",
       "    </tr>\n",
       "    <tr>\n",
       "      <th>2</th>\n",
       "      <td>1000_247</td>\n",
       "      <td>1000</td>\n",
       "      <td>2018-12-27</td>\n",
       "      <td>14.48</td>\n",
       "    </tr>\n",
       "    <tr>\n",
       "      <th>3</th>\n",
       "      <td>1000_309</td>\n",
       "      <td>1000</td>\n",
       "      <td>2018-12-28</td>\n",
       "      <td>5.76</td>\n",
       "    </tr>\n",
       "    <tr>\n",
       "      <th>4</th>\n",
       "      <td>1000_380</td>\n",
       "      <td>1000</td>\n",
       "      <td>2018-12-30</td>\n",
       "      <td>4.22</td>\n",
       "    </tr>\n",
       "  </tbody>\n",
       "</table>\n",
       "</div>"
      ],
      "text/plain": [
       "         id  user_id   call_date  duration\n",
       "0   1000_93     1000  2018-12-27      8.52\n",
       "1  1000_145     1000  2018-12-27     13.66\n",
       "2  1000_247     1000  2018-12-27     14.48\n",
       "3  1000_309     1000  2018-12-28      5.76\n",
       "4  1000_380     1000  2018-12-30      4.22"
      ]
     },
     "execution_count": 9,
     "metadata": {},
     "output_type": "execute_result"
    }
   ],
   "source": [
    "# Imprimir una muestra de datos para las llamadas\n",
    "\n",
    "df_calls.head()\n"
   ]
  },
  {
   "cell_type": "markdown",
   "metadata": {
    "id": "S7hzxmbX0q0-"
   },
   "source": [
    "### Corregir los datos"
   ]
  },
  {
   "cell_type": "code",
   "execution_count": 10,
   "metadata": {
    "id": "S2r8xA4f0q0-"
   },
   "outputs": [
    {
     "name": "stdout",
     "output_type": "stream",
     "text": [
      "<class 'pandas.core.frame.DataFrame'>\n",
      "RangeIndex: 137735 entries, 0 to 137734\n",
      "Data columns (total 4 columns):\n",
      " #   Column     Non-Null Count   Dtype         \n",
      "---  ------     --------------   -----         \n",
      " 0   id         137735 non-null  object        \n",
      " 1   user_id    137735 non-null  int64         \n",
      " 2   call_date  137735 non-null  datetime64[ns]\n",
      " 3   duration   137735 non-null  float64       \n",
      "dtypes: datetime64[ns](1), float64(1), int64(1), object(1)\n",
      "memory usage: 4.2+ MB\n"
     ]
    },
    {
     "data": {
      "text/html": [
       "<div>\n",
       "<style scoped>\n",
       "    .dataframe tbody tr th:only-of-type {\n",
       "        vertical-align: middle;\n",
       "    }\n",
       "\n",
       "    .dataframe tbody tr th {\n",
       "        vertical-align: top;\n",
       "    }\n",
       "\n",
       "    .dataframe thead th {\n",
       "        text-align: right;\n",
       "    }\n",
       "</style>\n",
       "<table border=\"1\" class=\"dataframe\">\n",
       "  <thead>\n",
       "    <tr style=\"text-align: right;\">\n",
       "      <th></th>\n",
       "      <th>id</th>\n",
       "      <th>user_id</th>\n",
       "      <th>call_date</th>\n",
       "      <th>duration</th>\n",
       "    </tr>\n",
       "  </thead>\n",
       "  <tbody>\n",
       "    <tr>\n",
       "      <th>0</th>\n",
       "      <td>1000_93</td>\n",
       "      <td>1000</td>\n",
       "      <td>2018-12-27</td>\n",
       "      <td>8.52</td>\n",
       "    </tr>\n",
       "    <tr>\n",
       "      <th>1</th>\n",
       "      <td>1000_145</td>\n",
       "      <td>1000</td>\n",
       "      <td>2018-12-27</td>\n",
       "      <td>13.66</td>\n",
       "    </tr>\n",
       "    <tr>\n",
       "      <th>2</th>\n",
       "      <td>1000_247</td>\n",
       "      <td>1000</td>\n",
       "      <td>2018-12-27</td>\n",
       "      <td>14.48</td>\n",
       "    </tr>\n",
       "    <tr>\n",
       "      <th>3</th>\n",
       "      <td>1000_309</td>\n",
       "      <td>1000</td>\n",
       "      <td>2018-12-28</td>\n",
       "      <td>5.76</td>\n",
       "    </tr>\n",
       "    <tr>\n",
       "      <th>4</th>\n",
       "      <td>1000_380</td>\n",
       "      <td>1000</td>\n",
       "      <td>2018-12-30</td>\n",
       "      <td>4.22</td>\n",
       "    </tr>\n",
       "  </tbody>\n",
       "</table>\n",
       "</div>"
      ],
      "text/plain": [
       "         id  user_id  call_date  duration\n",
       "0   1000_93     1000 2018-12-27      8.52\n",
       "1  1000_145     1000 2018-12-27     13.66\n",
       "2  1000_247     1000 2018-12-27     14.48\n",
       "3  1000_309     1000 2018-12-28      5.76\n",
       "4  1000_380     1000 2018-12-30      4.22"
      ]
     },
     "execution_count": 10,
     "metadata": {},
     "output_type": "execute_result"
    }
   ],
   "source": [
    "# Formatear la fecha\n",
    "df_calls['call_date'] = pd.to_datetime(df_calls['call_date'],format='%Y-%m-%d')\n",
    "df_calls.info()\n",
    "df_calls.head()"
   ]
  },
  {
   "cell_type": "markdown",
   "metadata": {
    "id": "KrMgTrlG0q0_"
   },
   "source": [
    "### Enriquecer los datos"
   ]
  },
  {
   "cell_type": "markdown",
   "metadata": {},
   "source": [
    "### Encontrar las llamadas no respondidas"
   ]
  },
  {
   "cell_type": "code",
   "execution_count": 11,
   "metadata": {},
   "outputs": [
    {
     "name": "stdout",
     "output_type": "stream",
     "text": [
      "              id  user_id  call_date  duration\n",
      "19        1001_4     1001 2018-12-05       0.0\n",
      "25       1001_13     1001 2018-12-24       0.0\n",
      "31       1001_30     1001 2018-10-17       0.0\n",
      "32       1001_31     1001 2018-11-03       0.0\n",
      "34       1001_35     1001 2018-12-21       0.0\n",
      "...          ...      ...        ...       ...\n",
      "137714  1499_183     1499 2018-11-10       0.0\n",
      "137715  1499_184     1499 2018-09-15       0.0\n",
      "137720  1499_189     1499 2018-12-27       0.0\n",
      "137722  1499_191     1499 2018-12-24       0.0\n",
      "137725  1499_194     1499 2018-10-31       0.0\n",
      "\n",
      "[26834 rows x 4 columns]\n"
     ]
    }
   ],
   "source": [
    "# Llamadas con duracion de 0\n",
    "print(df_calls[df_calls['duration'] ==0])"
   ]
  },
  {
   "cell_type": "markdown",
   "metadata": {},
   "source": [
    "Existen 26834 llamadas con una duracion de 0, esto puede significarse que las llamadas no fueron respondidas"
   ]
  },
  {
   "cell_type": "markdown",
   "metadata": {
    "id": "mOUZSi180q0_"
   },
   "source": [
    "## Mensajes"
   ]
  },
  {
   "cell_type": "code",
   "execution_count": 12,
   "metadata": {
    "id": "R-bYJpdV0q1A"
   },
   "outputs": [
    {
     "name": "stdout",
     "output_type": "stream",
     "text": [
      "<class 'pandas.core.frame.DataFrame'>\n",
      "RangeIndex: 76051 entries, 0 to 76050\n",
      "Data columns (total 3 columns):\n",
      " #   Column        Non-Null Count  Dtype \n",
      "---  ------        --------------  ----- \n",
      " 0   id            76051 non-null  object\n",
      " 1   user_id       76051 non-null  int64 \n",
      " 2   message_date  76051 non-null  object\n",
      "dtypes: int64(1), object(2)\n",
      "memory usage: 1.7+ MB\n"
     ]
    }
   ],
   "source": [
    "# Imprimir la información general/resumida sobre el DataFrame de los mensajes\n",
    "df_messages.info()"
   ]
  },
  {
   "cell_type": "code",
   "execution_count": 13,
   "metadata": {
    "id": "mCEl2iGE0q1A"
   },
   "outputs": [
    {
     "data": {
      "text/html": [
       "<div>\n",
       "<style scoped>\n",
       "    .dataframe tbody tr th:only-of-type {\n",
       "        vertical-align: middle;\n",
       "    }\n",
       "\n",
       "    .dataframe tbody tr th {\n",
       "        vertical-align: top;\n",
       "    }\n",
       "\n",
       "    .dataframe thead th {\n",
       "        text-align: right;\n",
       "    }\n",
       "</style>\n",
       "<table border=\"1\" class=\"dataframe\">\n",
       "  <thead>\n",
       "    <tr style=\"text-align: right;\">\n",
       "      <th></th>\n",
       "      <th>id</th>\n",
       "      <th>user_id</th>\n",
       "      <th>message_date</th>\n",
       "    </tr>\n",
       "  </thead>\n",
       "  <tbody>\n",
       "    <tr>\n",
       "      <th>0</th>\n",
       "      <td>1000_125</td>\n",
       "      <td>1000</td>\n",
       "      <td>2018-12-27</td>\n",
       "    </tr>\n",
       "    <tr>\n",
       "      <th>1</th>\n",
       "      <td>1000_160</td>\n",
       "      <td>1000</td>\n",
       "      <td>2018-12-31</td>\n",
       "    </tr>\n",
       "    <tr>\n",
       "      <th>2</th>\n",
       "      <td>1000_223</td>\n",
       "      <td>1000</td>\n",
       "      <td>2018-12-31</td>\n",
       "    </tr>\n",
       "    <tr>\n",
       "      <th>3</th>\n",
       "      <td>1000_251</td>\n",
       "      <td>1000</td>\n",
       "      <td>2018-12-27</td>\n",
       "    </tr>\n",
       "    <tr>\n",
       "      <th>4</th>\n",
       "      <td>1000_255</td>\n",
       "      <td>1000</td>\n",
       "      <td>2018-12-26</td>\n",
       "    </tr>\n",
       "  </tbody>\n",
       "</table>\n",
       "</div>"
      ],
      "text/plain": [
       "         id  user_id message_date\n",
       "0  1000_125     1000   2018-12-27\n",
       "1  1000_160     1000   2018-12-31\n",
       "2  1000_223     1000   2018-12-31\n",
       "3  1000_251     1000   2018-12-27\n",
       "4  1000_255     1000   2018-12-26"
      ]
     },
     "execution_count": 13,
     "metadata": {},
     "output_type": "execute_result"
    }
   ],
   "source": [
    "# Imprimir una muestra de datos para los mensajes\n",
    "\n",
    "df_messages.head()"
   ]
  },
  {
   "cell_type": "markdown",
   "metadata": {
    "id": "04xDj7KH0q1A"
   },
   "source": [
    "* En esta tabla cambiaremos message_date a tipo datetime"
   ]
  },
  {
   "cell_type": "markdown",
   "metadata": {
    "id": "Sprfak900q1B"
   },
   "source": [
    "### Corregir los datos"
   ]
  },
  {
   "cell_type": "code",
   "execution_count": 14,
   "metadata": {
    "id": "vsllvkoa0q1B"
   },
   "outputs": [
    {
     "name": "stdout",
     "output_type": "stream",
     "text": [
      "<class 'pandas.core.frame.DataFrame'>\n",
      "RangeIndex: 76051 entries, 0 to 76050\n",
      "Data columns (total 3 columns):\n",
      " #   Column        Non-Null Count  Dtype         \n",
      "---  ------        --------------  -----         \n",
      " 0   id            76051 non-null  object        \n",
      " 1   user_id       76051 non-null  int64         \n",
      " 2   message_date  76051 non-null  datetime64[ns]\n",
      "dtypes: datetime64[ns](1), int64(1), object(1)\n",
      "memory usage: 1.7+ MB\n"
     ]
    },
    {
     "data": {
      "text/html": [
       "<div>\n",
       "<style scoped>\n",
       "    .dataframe tbody tr th:only-of-type {\n",
       "        vertical-align: middle;\n",
       "    }\n",
       "\n",
       "    .dataframe tbody tr th {\n",
       "        vertical-align: top;\n",
       "    }\n",
       "\n",
       "    .dataframe thead th {\n",
       "        text-align: right;\n",
       "    }\n",
       "</style>\n",
       "<table border=\"1\" class=\"dataframe\">\n",
       "  <thead>\n",
       "    <tr style=\"text-align: right;\">\n",
       "      <th></th>\n",
       "      <th>id</th>\n",
       "      <th>user_id</th>\n",
       "      <th>message_date</th>\n",
       "    </tr>\n",
       "  </thead>\n",
       "  <tbody>\n",
       "    <tr>\n",
       "      <th>0</th>\n",
       "      <td>1000_125</td>\n",
       "      <td>1000</td>\n",
       "      <td>2018-12-27</td>\n",
       "    </tr>\n",
       "    <tr>\n",
       "      <th>1</th>\n",
       "      <td>1000_160</td>\n",
       "      <td>1000</td>\n",
       "      <td>2018-12-31</td>\n",
       "    </tr>\n",
       "    <tr>\n",
       "      <th>2</th>\n",
       "      <td>1000_223</td>\n",
       "      <td>1000</td>\n",
       "      <td>2018-12-31</td>\n",
       "    </tr>\n",
       "    <tr>\n",
       "      <th>3</th>\n",
       "      <td>1000_251</td>\n",
       "      <td>1000</td>\n",
       "      <td>2018-12-27</td>\n",
       "    </tr>\n",
       "    <tr>\n",
       "      <th>4</th>\n",
       "      <td>1000_255</td>\n",
       "      <td>1000</td>\n",
       "      <td>2018-12-26</td>\n",
       "    </tr>\n",
       "  </tbody>\n",
       "</table>\n",
       "</div>"
      ],
      "text/plain": [
       "         id  user_id message_date\n",
       "0  1000_125     1000   2018-12-27\n",
       "1  1000_160     1000   2018-12-31\n",
       "2  1000_223     1000   2018-12-31\n",
       "3  1000_251     1000   2018-12-27\n",
       "4  1000_255     1000   2018-12-26"
      ]
     },
     "execution_count": 14,
     "metadata": {},
     "output_type": "execute_result"
    }
   ],
   "source": [
    "# Formatear la fecha\n",
    "df_messages['message_date'] = pd.to_datetime(df_messages['message_date'], format = '%Y-%m-%d')\n",
    "df_messages.info()\n",
    "df_messages.head()"
   ]
  },
  {
   "cell_type": "markdown",
   "metadata": {
    "id": "bStkaxn40q1C"
   },
   "source": [
    "## Internet"
   ]
  },
  {
   "cell_type": "code",
   "execution_count": 15,
   "metadata": {
    "id": "e-Uz5qyn0q1C"
   },
   "outputs": [
    {
     "name": "stdout",
     "output_type": "stream",
     "text": [
      "<class 'pandas.core.frame.DataFrame'>\n",
      "RangeIndex: 104825 entries, 0 to 104824\n",
      "Data columns (total 4 columns):\n",
      " #   Column        Non-Null Count   Dtype  \n",
      "---  ------        --------------   -----  \n",
      " 0   id            104825 non-null  object \n",
      " 1   user_id       104825 non-null  int64  \n",
      " 2   session_date  104825 non-null  object \n",
      " 3   mb_used       104825 non-null  float64\n",
      "dtypes: float64(1), int64(1), object(2)\n",
      "memory usage: 3.2+ MB\n"
     ]
    }
   ],
   "source": [
    "# Imprimir la información general/resumida sobre el DataFrame de internet\n",
    "\n",
    "df_internet.info()"
   ]
  },
  {
   "cell_type": "code",
   "execution_count": 16,
   "metadata": {
    "id": "9r3x_XLw0q1C"
   },
   "outputs": [
    {
     "data": {
      "text/html": [
       "<div>\n",
       "<style scoped>\n",
       "    .dataframe tbody tr th:only-of-type {\n",
       "        vertical-align: middle;\n",
       "    }\n",
       "\n",
       "    .dataframe tbody tr th {\n",
       "        vertical-align: top;\n",
       "    }\n",
       "\n",
       "    .dataframe thead th {\n",
       "        text-align: right;\n",
       "    }\n",
       "</style>\n",
       "<table border=\"1\" class=\"dataframe\">\n",
       "  <thead>\n",
       "    <tr style=\"text-align: right;\">\n",
       "      <th></th>\n",
       "      <th>id</th>\n",
       "      <th>user_id</th>\n",
       "      <th>session_date</th>\n",
       "      <th>mb_used</th>\n",
       "    </tr>\n",
       "  </thead>\n",
       "  <tbody>\n",
       "    <tr>\n",
       "      <th>0</th>\n",
       "      <td>1000_13</td>\n",
       "      <td>1000</td>\n",
       "      <td>2018-12-29</td>\n",
       "      <td>89.86</td>\n",
       "    </tr>\n",
       "    <tr>\n",
       "      <th>1</th>\n",
       "      <td>1000_204</td>\n",
       "      <td>1000</td>\n",
       "      <td>2018-12-31</td>\n",
       "      <td>0.00</td>\n",
       "    </tr>\n",
       "    <tr>\n",
       "      <th>2</th>\n",
       "      <td>1000_379</td>\n",
       "      <td>1000</td>\n",
       "      <td>2018-12-28</td>\n",
       "      <td>660.40</td>\n",
       "    </tr>\n",
       "    <tr>\n",
       "      <th>3</th>\n",
       "      <td>1000_413</td>\n",
       "      <td>1000</td>\n",
       "      <td>2018-12-26</td>\n",
       "      <td>270.99</td>\n",
       "    </tr>\n",
       "    <tr>\n",
       "      <th>4</th>\n",
       "      <td>1000_442</td>\n",
       "      <td>1000</td>\n",
       "      <td>2018-12-27</td>\n",
       "      <td>880.22</td>\n",
       "    </tr>\n",
       "  </tbody>\n",
       "</table>\n",
       "</div>"
      ],
      "text/plain": [
       "         id  user_id session_date  mb_used\n",
       "0   1000_13     1000   2018-12-29    89.86\n",
       "1  1000_204     1000   2018-12-31     0.00\n",
       "2  1000_379     1000   2018-12-28   660.40\n",
       "3  1000_413     1000   2018-12-26   270.99\n",
       "4  1000_442     1000   2018-12-27   880.22"
      ]
     },
     "execution_count": 16,
     "metadata": {},
     "output_type": "execute_result"
    }
   ],
   "source": [
    "# Imprimir una muestra de datos para el tráfico de internet\n",
    "df_internet.head()\n"
   ]
  },
  {
   "cell_type": "markdown",
   "metadata": {
    "id": "EzOG5ik30q1D"
   },
   "source": [
    "La columna session_date la convertiremos a tipo datetime"
   ]
  },
  {
   "cell_type": "markdown",
   "metadata": {
    "id": "yA0tkPFg0q1D"
   },
   "source": [
    "### Corregir los datos"
   ]
  },
  {
   "cell_type": "code",
   "execution_count": 17,
   "metadata": {
    "id": "zVeanzdd0q1E"
   },
   "outputs": [
    {
     "name": "stdout",
     "output_type": "stream",
     "text": [
      "<class 'pandas.core.frame.DataFrame'>\n",
      "RangeIndex: 104825 entries, 0 to 104824\n",
      "Data columns (total 4 columns):\n",
      " #   Column        Non-Null Count   Dtype         \n",
      "---  ------        --------------   -----         \n",
      " 0   id            104825 non-null  object        \n",
      " 1   user_id       104825 non-null  int64         \n",
      " 2   session_date  104825 non-null  datetime64[ns]\n",
      " 3   mb_used       104825 non-null  float64       \n",
      "dtypes: datetime64[ns](1), float64(1), int64(1), object(1)\n",
      "memory usage: 3.2+ MB\n"
     ]
    },
    {
     "data": {
      "text/html": [
       "<div>\n",
       "<style scoped>\n",
       "    .dataframe tbody tr th:only-of-type {\n",
       "        vertical-align: middle;\n",
       "    }\n",
       "\n",
       "    .dataframe tbody tr th {\n",
       "        vertical-align: top;\n",
       "    }\n",
       "\n",
       "    .dataframe thead th {\n",
       "        text-align: right;\n",
       "    }\n",
       "</style>\n",
       "<table border=\"1\" class=\"dataframe\">\n",
       "  <thead>\n",
       "    <tr style=\"text-align: right;\">\n",
       "      <th></th>\n",
       "      <th>id</th>\n",
       "      <th>user_id</th>\n",
       "      <th>session_date</th>\n",
       "      <th>mb_used</th>\n",
       "    </tr>\n",
       "  </thead>\n",
       "  <tbody>\n",
       "    <tr>\n",
       "      <th>0</th>\n",
       "      <td>1000_13</td>\n",
       "      <td>1000</td>\n",
       "      <td>2018-12-29</td>\n",
       "      <td>89.86</td>\n",
       "    </tr>\n",
       "    <tr>\n",
       "      <th>1</th>\n",
       "      <td>1000_204</td>\n",
       "      <td>1000</td>\n",
       "      <td>2018-12-31</td>\n",
       "      <td>0.00</td>\n",
       "    </tr>\n",
       "    <tr>\n",
       "      <th>2</th>\n",
       "      <td>1000_379</td>\n",
       "      <td>1000</td>\n",
       "      <td>2018-12-28</td>\n",
       "      <td>660.40</td>\n",
       "    </tr>\n",
       "    <tr>\n",
       "      <th>3</th>\n",
       "      <td>1000_413</td>\n",
       "      <td>1000</td>\n",
       "      <td>2018-12-26</td>\n",
       "      <td>270.99</td>\n",
       "    </tr>\n",
       "    <tr>\n",
       "      <th>4</th>\n",
       "      <td>1000_442</td>\n",
       "      <td>1000</td>\n",
       "      <td>2018-12-27</td>\n",
       "      <td>880.22</td>\n",
       "    </tr>\n",
       "  </tbody>\n",
       "</table>\n",
       "</div>"
      ],
      "text/plain": [
       "         id  user_id session_date  mb_used\n",
       "0   1000_13     1000   2018-12-29    89.86\n",
       "1  1000_204     1000   2018-12-31     0.00\n",
       "2  1000_379     1000   2018-12-28   660.40\n",
       "3  1000_413     1000   2018-12-26   270.99\n",
       "4  1000_442     1000   2018-12-27   880.22"
      ]
     },
     "execution_count": 17,
     "metadata": {},
     "output_type": "execute_result"
    }
   ],
   "source": [
    "# Formatear la fecha \n",
    "df_internet['session_date'] = pd.to_datetime(df_internet['session_date'], format = '%Y-%m-%d')\n",
    "df_internet.info()\n",
    "df_internet.head()"
   ]
  },
  {
   "cell_type": "markdown",
   "metadata": {
    "id": "e8_mLF4a0q1E"
   },
   "source": [
    "### Enriquecer los datos"
   ]
  },
  {
   "cell_type": "code",
   "execution_count": 18,
   "metadata": {},
   "outputs": [
    {
     "data": {
      "text/plain": [
       "0    1\n",
       "1    0\n",
       "2    1\n",
       "3    1\n",
       "4    1\n",
       "Name: gb_used, dtype: int64"
      ]
     },
     "execution_count": 18,
     "metadata": {},
     "output_type": "execute_result"
    }
   ],
   "source": [
    "# Transformacion y cambio de nombre de la columna mb_used a gb_used y redondeo hacia arriba con math.ceil\n",
    "df_internet.rename(columns={'mb_used':'gb_used'}, inplace = True)\n",
    "\n",
    "df_internet['gb_used'] = (df_internet['gb_used']/1024).apply(math.ceil)\n",
    "\n",
    "df_internet['gb_used'].head()"
   ]
  },
  {
   "cell_type": "markdown",
   "metadata": {
    "id": "3UA2cqIW0q1E"
   },
   "source": [
    "## Estudiar las condiciones de las tarifas"
   ]
  },
  {
   "cell_type": "code",
   "execution_count": 19,
   "metadata": {
    "id": "i409op8p0q1F"
   },
   "outputs": [
    {
     "data": {
      "text/html": [
       "<div>\n",
       "<style scoped>\n",
       "    .dataframe tbody tr th:only-of-type {\n",
       "        vertical-align: middle;\n",
       "    }\n",
       "\n",
       "    .dataframe tbody tr th {\n",
       "        vertical-align: top;\n",
       "    }\n",
       "\n",
       "    .dataframe thead th {\n",
       "        text-align: right;\n",
       "    }\n",
       "</style>\n",
       "<table border=\"1\" class=\"dataframe\">\n",
       "  <thead>\n",
       "    <tr style=\"text-align: right;\">\n",
       "      <th></th>\n",
       "      <th>messages_included</th>\n",
       "      <th>gb_per_month_included</th>\n",
       "      <th>minutes_included</th>\n",
       "      <th>usd_monthly_pay</th>\n",
       "      <th>usd_per_gb</th>\n",
       "      <th>usd_per_message</th>\n",
       "      <th>usd_per_minute</th>\n",
       "      <th>plan_name</th>\n",
       "    </tr>\n",
       "  </thead>\n",
       "  <tbody>\n",
       "    <tr>\n",
       "      <th>0</th>\n",
       "      <td>50</td>\n",
       "      <td>15.0</td>\n",
       "      <td>500</td>\n",
       "      <td>20</td>\n",
       "      <td>10</td>\n",
       "      <td>0.03</td>\n",
       "      <td>0.03</td>\n",
       "      <td>surf</td>\n",
       "    </tr>\n",
       "    <tr>\n",
       "      <th>1</th>\n",
       "      <td>1000</td>\n",
       "      <td>30.0</td>\n",
       "      <td>3000</td>\n",
       "      <td>70</td>\n",
       "      <td>7</td>\n",
       "      <td>0.01</td>\n",
       "      <td>0.01</td>\n",
       "      <td>ultimate</td>\n",
       "    </tr>\n",
       "  </tbody>\n",
       "</table>\n",
       "</div>"
      ],
      "text/plain": [
       "   messages_included  gb_per_month_included  minutes_included  \\\n",
       "0                 50                   15.0               500   \n",
       "1               1000                   30.0              3000   \n",
       "\n",
       "   usd_monthly_pay  usd_per_gb  usd_per_message  usd_per_minute plan_name  \n",
       "0               20          10             0.03            0.03      surf  \n",
       "1               70           7             0.01            0.01  ultimate  "
      ]
     },
     "execution_count": 19,
     "metadata": {},
     "output_type": "execute_result"
    }
   ],
   "source": [
    "# Imprime las condiciones de la tarifa \n",
    "df_plans.head()\n",
    "\n"
   ]
  },
  {
   "cell_type": "code",
   "execution_count": 20,
   "metadata": {
    "id": "A332cedB0q1G"
   },
   "outputs": [
    {
     "name": "stdout",
     "output_type": "stream",
     "text": [
      "      user_id year_month  call_count\n",
      "0        1000    2018-12          16\n",
      "1        1001    2018-08          27\n",
      "2        1001    2018-09          49\n",
      "3        1001    2018-10          65\n",
      "4        1001    2018-11          64\n",
      "...       ...        ...         ...\n",
      "2253     1498    2018-12          39\n",
      "2254     1499    2018-09          41\n",
      "2255     1499    2018-10          53\n",
      "2256     1499    2018-11          45\n",
      "2257     1499    2018-12          65\n",
      "\n",
      "[2258 rows x 3 columns]\n"
     ]
    }
   ],
   "source": [
    "# Calcular el número de llamadas hechas por cada usuario al mes.\n",
    "\n",
    "df_calls['year_month'] = df_calls['call_date'].dt.to_period('M')\n",
    "\n",
    "calls_per_user = df_calls.groupby(['user_id', 'year_month']).size().reset_index(name='call_count')\n",
    "\n",
    "print(calls_per_user)\n"
   ]
  },
  {
   "cell_type": "code",
   "execution_count": 21,
   "metadata": {},
   "outputs": [
    {
     "name": "stdout",
     "output_type": "stream",
     "text": [
      "     user_id year_month      sum    count\n",
      "                        duration duration\n",
      "0       1000    2018-12   116.83       16\n",
      "1       1001    2018-08   171.14       27\n",
      "2       1001    2018-09   297.69       49\n",
      "3       1001    2018-10   374.11       65\n",
      "4       1001    2018-11   404.59       64\n",
      "...      ...        ...      ...      ...\n",
      "2253    1498    2018-12   324.77       39\n",
      "2254    1499    2018-09   330.37       41\n",
      "2255    1499    2018-10   363.28       53\n",
      "2256    1499    2018-11   288.56       45\n",
      "2257    1499    2018-12   468.10       65\n",
      "\n",
      "[2258 rows x 4 columns]\n"
     ]
    }
   ],
   "source": [
    "# Mostrar tabla con numero de minutos y llamadas en el mes\n",
    "pivot_calls = df_calls.pivot_table(index=['user_id', 'year_month'],\n",
    "                            values=['duration'],\n",
    "                            aggfunc=['sum','count']).reset_index()\n",
    "print(pivot_calls)"
   ]
  },
  {
   "cell_type": "code",
   "execution_count": 22,
   "metadata": {
    "id": "aw2cmuql0q1G"
   },
   "outputs": [
    {
     "name": "stdout",
     "output_type": "stream",
     "text": [
      "      user_id year_month  total_minutes\n",
      "0        1000    2018-12            117\n",
      "1        1001    2018-08            172\n",
      "2        1001    2018-09            298\n",
      "3        1001    2018-10            375\n",
      "4        1001    2018-11            405\n",
      "...       ...        ...            ...\n",
      "2253     1498    2018-12            325\n",
      "2254     1499    2018-09            331\n",
      "2255     1499    2018-10            364\n",
      "2256     1499    2018-11            289\n",
      "2257     1499    2018-12            469\n",
      "\n",
      "[2258 rows x 3 columns]\n"
     ]
    }
   ],
   "source": [
    "# Calcular la cantidad de minutos usados por cada usuario al mes. \n",
    "#Rendondeo de el total de minutos por llamada\n",
    "\n",
    "minutes_per_user = df_calls.groupby(['user_id', 'year_month'])['duration'].sum().reset_index(name='total_minutes')\n",
    "\n",
    "minutes_per_user['total_minutes'] = minutes_per_user['total_minutes'].apply(math.ceil)\n",
    "print(minutes_per_user)\n"
   ]
  },
  {
   "cell_type": "code",
   "execution_count": 23,
   "metadata": {
    "id": "CcQvNHn60q1G"
   },
   "outputs": [
    {
     "name": "stdout",
     "output_type": "stream",
     "text": [
      "      user_id year_month  message_count\n",
      "0        1000    2018-12             11\n",
      "1        1001    2018-08             30\n",
      "2        1001    2018-09             44\n",
      "3        1001    2018-10             53\n",
      "4        1001    2018-11             36\n",
      "...       ...        ...            ...\n",
      "1801     1496    2018-09             21\n",
      "1802     1496    2018-10             18\n",
      "1803     1496    2018-11             13\n",
      "1804     1496    2018-12             11\n",
      "1805     1497    2018-12             50\n",
      "\n",
      "[1806 rows x 3 columns]\n"
     ]
    }
   ],
   "source": [
    "# Calcular el número de mensajes enviados por cada usuario al mes. \n",
    "\n",
    "df_messages['year_month'] = df_messages['message_date'].dt.to_period('M')\n",
    "\n",
    "msg_per_user = df_messages.groupby(['user_id', 'year_month']).size().reset_index(name='message_count')\n",
    "\n",
    "print(msg_per_user)"
   ]
  },
  {
   "cell_type": "code",
   "execution_count": 24,
   "metadata": {
    "id": "H1AqN2eG0q1H"
   },
   "outputs": [
    {
     "name": "stdout",
     "output_type": "stream",
     "text": [
      "      user_id year_month  gb_per_month\n",
      "0        1000    2018-12             4\n",
      "1        1001    2018-08            21\n",
      "2        1001    2018-09            41\n",
      "3        1001    2018-10            50\n",
      "4        1001    2018-11            49\n",
      "...       ...        ...           ...\n",
      "2272     1498    2018-12            56\n",
      "2273     1499    2018-09            37\n",
      "2274     1499    2018-10            52\n",
      "2275     1499    2018-11            43\n",
      "2276     1499    2018-12            58\n",
      "\n",
      "[2277 rows x 3 columns]\n"
     ]
    }
   ],
   "source": [
    "# Calcular el volumen del tráfico de Internet usado por cada usuario al mes. \n",
    "\n",
    "df_internet['year_month'] = df_internet['session_date'].dt.to_period('M')\n",
    "\n",
    "internet_per_user = df_internet.groupby(['user_id', 'year_month'])['gb_used'].sum().reset_index(name='gb_per_month')\n",
    "\n",
    "print(internet_per_user)\n"
   ]
  },
  {
   "cell_type": "code",
   "execution_count": 25,
   "metadata": {
    "id": "FW99ykyf0q1H"
   },
   "outputs": [
    {
     "name": "stdout",
     "output_type": "stream",
     "text": [
      "      user_id year_month  total_minutes  message_count  gb_per_month\n",
      "0        1000    2018-12          117.0           11.0           4.0\n",
      "1        1001    2018-08          172.0           30.0          21.0\n",
      "2        1001    2018-09          298.0           44.0          41.0\n",
      "3        1001    2018-10          375.0           53.0          50.0\n",
      "4        1001    2018-11          405.0           36.0          49.0\n",
      "...       ...        ...            ...            ...           ...\n",
      "2288     1498    2018-12          325.0            NaN          56.0\n",
      "2289     1499    2018-09          331.0            NaN          37.0\n",
      "2290     1499    2018-10          364.0            NaN          52.0\n",
      "2291     1499    2018-11          289.0            NaN          43.0\n",
      "2292     1499    2018-12          469.0            NaN          58.0\n",
      "\n",
      "[2293 rows x 5 columns]\n",
      "<class 'pandas.core.frame.DataFrame'>\n",
      "RangeIndex: 2293 entries, 0 to 2292\n",
      "Data columns (total 5 columns):\n",
      " #   Column         Non-Null Count  Dtype    \n",
      "---  ------         --------------  -----    \n",
      " 0   user_id        2293 non-null   int64    \n",
      " 1   year_month     2293 non-null   period[M]\n",
      " 2   total_minutes  2258 non-null   float64  \n",
      " 3   message_count  1806 non-null   float64  \n",
      " 4   gb_per_month   2277 non-null   float64  \n",
      "dtypes: float64(3), int64(1), period[M](1)\n",
      "memory usage: 89.7 KB\n"
     ]
    }
   ],
   "source": [
    "# Fusionar los datos de llamadas, minutos, mensajes e Internet con base en user_id y month\n",
    "\n",
    "df_1 = pd.merge(minutes_per_user, msg_per_user[['user_id','year_month','message_count']], on = ['user_id','year_month'], how = 'outer')\n",
    "\n",
    "df_1.columns = ['user_id', 'year_month', 'total_minutes', 'message_count']\n",
    "\n",
    "df_all = pd.merge(df_1 , internet_per_user[['user_id','year_month', 'gb_per_month']], on = ['user_id','year_month'], how = 'outer')\n",
    "\n",
    "df_all.columns = ['user_id', 'year_month', 'total_minutes', 'message_count','gb_per_month']\n",
    "\n",
    "print(df_all)\n",
    "df_all.info()\n"
   ]
  },
  {
   "cell_type": "markdown",
   "metadata": {},
   "source": [
    "Realicé dos merge para unir las tres tablas por medio de las columnas 'user_id', 'year_month'. Sin embargo algunos de los datos de las columas son faltantes, por lo tanto es necesario reemplazarlos por 0 "
   ]
  },
  {
   "cell_type": "code",
   "execution_count": 26,
   "metadata": {},
   "outputs": [
    {
     "name": "stdout",
     "output_type": "stream",
     "text": [
      "<class 'pandas.core.frame.DataFrame'>\n",
      "RangeIndex: 2293 entries, 0 to 2292\n",
      "Data columns (total 5 columns):\n",
      " #   Column         Non-Null Count  Dtype    \n",
      "---  ------         --------------  -----    \n",
      " 0   user_id        2293 non-null   int64    \n",
      " 1   year_month     2293 non-null   period[M]\n",
      " 2   total_minutes  2293 non-null   float64  \n",
      " 3   message_count  2293 non-null   float64  \n",
      " 4   gb_per_month   2293 non-null   float64  \n",
      "dtypes: float64(3), int64(1), period[M](1)\n",
      "memory usage: 89.7 KB\n"
     ]
    }
   ],
   "source": [
    "#Reemplazo de los datos faltantes por 0 en las columnas ontenidas\n",
    "\n",
    "df_all['total_minutes'] = df_all['total_minutes'].fillna(0)\n",
    "df_all['message_count'] = df_all['message_count'].fillna(0)\n",
    "df_all['gb_per_month'] = df_all['gb_per_month'].fillna(0)\n",
    "df_all.info()"
   ]
  },
  {
   "cell_type": "code",
   "execution_count": 27,
   "metadata": {},
   "outputs": [],
   "source": [
    "# Crear 2 dataframe con la informacion del DataFrame df_all pero con una columna plan_name = surf y ultimate respectivamente\n",
    "\n",
    "df_surf = df_all.copy()\n",
    "df_surf['plan_name'] = 'surf'\n",
    "\n",
    "df_ultimate = df_all.copy()\n",
    "df_ultimate['plan_name'] = 'ultimate'"
   ]
  },
  {
   "cell_type": "code",
   "execution_count": 28,
   "metadata": {},
   "outputs": [
    {
     "name": "stdout",
     "output_type": "stream",
     "text": [
      "      user_id year_month  total_minutes  message_count  gb_per_month  \\\n",
      "0        1000    2018-12          117.0           11.0           4.0   \n",
      "1        1001    2018-08          172.0           30.0          21.0   \n",
      "2        1001    2018-09          298.0           44.0          41.0   \n",
      "3        1001    2018-10          375.0           53.0          50.0   \n",
      "4        1001    2018-11          405.0           36.0          49.0   \n",
      "...       ...        ...            ...            ...           ...   \n",
      "4581     1498    2018-12          325.0            0.0          56.0   \n",
      "4582     1499    2018-09          331.0            0.0          37.0   \n",
      "4583     1499    2018-10          364.0            0.0          52.0   \n",
      "4584     1499    2018-11          289.0            0.0          43.0   \n",
      "4585     1499    2018-12          469.0            0.0          58.0   \n",
      "\n",
      "     plan_name  messages_included  gb_per_month_included  minutes_included  \\\n",
      "0         surf                 50                   15.0               500   \n",
      "1         surf                 50                   15.0               500   \n",
      "2         surf                 50                   15.0               500   \n",
      "3         surf                 50                   15.0               500   \n",
      "4         surf                 50                   15.0               500   \n",
      "...        ...                ...                    ...               ...   \n",
      "4581  ultimate               1000                   30.0              3000   \n",
      "4582  ultimate               1000                   30.0              3000   \n",
      "4583  ultimate               1000                   30.0              3000   \n",
      "4584  ultimate               1000                   30.0              3000   \n",
      "4585  ultimate               1000                   30.0              3000   \n",
      "\n",
      "      usd_monthly_pay  usd_per_gb  usd_per_message  usd_per_minute  \n",
      "0                  20          10             0.03            0.03  \n",
      "1                  20          10             0.03            0.03  \n",
      "2                  20          10             0.03            0.03  \n",
      "3                  20          10             0.03            0.03  \n",
      "4                  20          10             0.03            0.03  \n",
      "...               ...         ...              ...             ...  \n",
      "4581               70           7             0.01            0.01  \n",
      "4582               70           7             0.01            0.01  \n",
      "4583               70           7             0.01            0.01  \n",
      "4584               70           7             0.01            0.01  \n",
      "4585               70           7             0.01            0.01  \n",
      "\n",
      "[4586 rows x 13 columns]\n"
     ]
    }
   ],
   "source": [
    "# Concatenar ambas copias en un solo DataFrame\n",
    "df_duplicated = pd.concat([df_surf, df_ultimate])\n",
    "\n",
    "# Fusionar el DataFrame duplicado con los detalles del plan en df_plans\n",
    "df_fusion = pd.merge(df_duplicated, df_plans, on='plan_name', how='left')\n",
    "\n",
    "# Visualizar el resultado\n",
    "print(df_fusion)"
   ]
  },
  {
   "cell_type": "code",
   "execution_count": 29,
   "metadata": {},
   "outputs": [
    {
     "name": "stdout",
     "output_type": "stream",
     "text": [
      "      user_id year_month  total_minutes  message_count  gb_per_month  \\\n",
      "0        1000    2018-12          117.0           11.0           4.0   \n",
      "2293     1000    2018-12          117.0           11.0           4.0   \n",
      "1        1001    2018-08          172.0           30.0          21.0   \n",
      "2        1001    2018-09          298.0           44.0          41.0   \n",
      "3        1001    2018-10          375.0           53.0          50.0   \n",
      "4        1001    2018-11          405.0           36.0          49.0   \n",
      "5        1001    2018-12          393.0           44.0          55.0   \n",
      "2294     1001    2018-08          172.0           30.0          21.0   \n",
      "2295     1001    2018-09          298.0           44.0          41.0   \n",
      "2296     1001    2018-10          375.0           53.0          50.0   \n",
      "2297     1001    2018-11          405.0           36.0          49.0   \n",
      "2298     1001    2018-12          393.0           44.0          55.0   \n",
      "6        1002    2018-10           55.0           15.0          15.0   \n",
      "7        1002    2018-11          360.0           32.0          45.0   \n",
      "8        1002    2018-12          364.0           41.0          37.0   \n",
      "2299     1002    2018-10           55.0           15.0          15.0   \n",
      "2300     1002    2018-11          360.0           32.0          45.0   \n",
      "2301     1002    2018-12          364.0           41.0          37.0   \n",
      "9        1003    2018-12         1041.0           50.0          53.0   \n",
      "2302     1003    2018-12         1041.0           50.0          53.0   \n",
      "10       1004    2018-05          182.0            7.0          14.0   \n",
      "11       1004    2018-06          262.0           18.0          58.0   \n",
      "12       1004    2018-07          359.0           26.0          61.0   \n",
      "13       1004    2018-08          335.0           25.0          70.0   \n",
      "14       1004    2018-09          285.0           21.0          48.0   \n",
      "15       1004    2018-10          342.0           24.0          42.0   \n",
      "16       1004    2018-11          453.0           25.0          56.0   \n",
      "17       1004    2018-12          404.0           31.0          50.0   \n",
      "2303     1004    2018-05          182.0            7.0          14.0   \n",
      "2304     1004    2018-06          262.0           18.0          58.0   \n",
      "\n",
      "     plan_name  messages_included  gb_per_month_included  minutes_included  \\\n",
      "0         surf                 50                   15.0               500   \n",
      "2293  ultimate               1000                   30.0              3000   \n",
      "1         surf                 50                   15.0               500   \n",
      "2         surf                 50                   15.0               500   \n",
      "3         surf                 50                   15.0               500   \n",
      "4         surf                 50                   15.0               500   \n",
      "5         surf                 50                   15.0               500   \n",
      "2294  ultimate               1000                   30.0              3000   \n",
      "2295  ultimate               1000                   30.0              3000   \n",
      "2296  ultimate               1000                   30.0              3000   \n",
      "2297  ultimate               1000                   30.0              3000   \n",
      "2298  ultimate               1000                   30.0              3000   \n",
      "6         surf                 50                   15.0               500   \n",
      "7         surf                 50                   15.0               500   \n",
      "8         surf                 50                   15.0               500   \n",
      "2299  ultimate               1000                   30.0              3000   \n",
      "2300  ultimate               1000                   30.0              3000   \n",
      "2301  ultimate               1000                   30.0              3000   \n",
      "9         surf                 50                   15.0               500   \n",
      "2302  ultimate               1000                   30.0              3000   \n",
      "10        surf                 50                   15.0               500   \n",
      "11        surf                 50                   15.0               500   \n",
      "12        surf                 50                   15.0               500   \n",
      "13        surf                 50                   15.0               500   \n",
      "14        surf                 50                   15.0               500   \n",
      "15        surf                 50                   15.0               500   \n",
      "16        surf                 50                   15.0               500   \n",
      "17        surf                 50                   15.0               500   \n",
      "2303  ultimate               1000                   30.0              3000   \n",
      "2304  ultimate               1000                   30.0              3000   \n",
      "\n",
      "      usd_monthly_pay  usd_per_gb  usd_per_message  usd_per_minute  \n",
      "0                  20          10             0.03            0.03  \n",
      "2293               70           7             0.01            0.01  \n",
      "1                  20          10             0.03            0.03  \n",
      "2                  20          10             0.03            0.03  \n",
      "3                  20          10             0.03            0.03  \n",
      "4                  20          10             0.03            0.03  \n",
      "5                  20          10             0.03            0.03  \n",
      "2294               70           7             0.01            0.01  \n",
      "2295               70           7             0.01            0.01  \n",
      "2296               70           7             0.01            0.01  \n",
      "2297               70           7             0.01            0.01  \n",
      "2298               70           7             0.01            0.01  \n",
      "6                  20          10             0.03            0.03  \n",
      "7                  20          10             0.03            0.03  \n",
      "8                  20          10             0.03            0.03  \n",
      "2299               70           7             0.01            0.01  \n",
      "2300               70           7             0.01            0.01  \n",
      "2301               70           7             0.01            0.01  \n",
      "9                  20          10             0.03            0.03  \n",
      "2302               70           7             0.01            0.01  \n",
      "10                 20          10             0.03            0.03  \n",
      "11                 20          10             0.03            0.03  \n",
      "12                 20          10             0.03            0.03  \n",
      "13                 20          10             0.03            0.03  \n",
      "14                 20          10             0.03            0.03  \n",
      "15                 20          10             0.03            0.03  \n",
      "16                 20          10             0.03            0.03  \n",
      "17                 20          10             0.03            0.03  \n",
      "2303               70           7             0.01            0.01  \n",
      "2304               70           7             0.01            0.01  \n"
     ]
    }
   ],
   "source": [
    "# Reordenar el dataframe para que muestre las filas por user id y plan name\n",
    "df_prices = df_fusion.sort_values(by=['user_id', 'plan_name'])\n",
    "\n",
    "# Mostrar el resultado\n",
    "print(df_prices.head(30))"
   ]
  },
  {
   "cell_type": "code",
   "execution_count": 30,
   "metadata": {},
   "outputs": [],
   "source": [
    "# Calcular el precio por minuto extra restando al total de minutos los incluidos del plan\n",
    "\n",
    "df_prices['extra_minutes'] = (df_prices['total_minutes'] - df_prices['minutes_included']).clip(lower=0)\n",
    "df_prices['extra_minutes_cost'] = df_prices['extra_minutes'] * df_prices['usd_per_minute']"
   ]
  },
  {
   "cell_type": "code",
   "execution_count": 31,
   "metadata": {},
   "outputs": [],
   "source": [
    "# Calcular el precio por mensaje extra restando al total de mensajes los incluidos del plan\n",
    "\n",
    "df_prices['extra_messages'] = (df_prices['message_count'] - df_prices['messages_included']).clip(lower=0)\n",
    "df_prices['extra_messages_cost'] = df_prices['extra_messages'] * df_prices['usd_per_message']"
   ]
  },
  {
   "cell_type": "code",
   "execution_count": 32,
   "metadata": {},
   "outputs": [],
   "source": [
    "# Calcular el precio por gb extra restando al total de gb los incluidos del plan\n",
    "\n",
    "df_prices['extra_data_gb'] = ((df_prices['gb_per_month'] - df_prices['gb_per_month_included'])).clip(lower=0)\n",
    "df_prices['extra_data_cost'] = df_prices['extra_data_gb'] * df_prices['usd_per_gb']"
   ]
  },
  {
   "cell_type": "code",
   "execution_count": 33,
   "metadata": {
    "id": "5FGCf_c60q1I"
   },
   "outputs": [
    {
     "data": {
      "text/html": [
       "<div>\n",
       "<style scoped>\n",
       "    .dataframe tbody tr th:only-of-type {\n",
       "        vertical-align: middle;\n",
       "    }\n",
       "\n",
       "    .dataframe tbody tr th {\n",
       "        vertical-align: top;\n",
       "    }\n",
       "\n",
       "    .dataframe thead th {\n",
       "        text-align: right;\n",
       "    }\n",
       "</style>\n",
       "<table border=\"1\" class=\"dataframe\">\n",
       "  <thead>\n",
       "    <tr style=\"text-align: right;\">\n",
       "      <th></th>\n",
       "      <th>user_id</th>\n",
       "      <th>plan_name</th>\n",
       "      <th>year_month</th>\n",
       "      <th>extra_minutes_cost</th>\n",
       "      <th>extra_messages_cost</th>\n",
       "      <th>extra_data_cost</th>\n",
       "      <th>mensual_pay</th>\n",
       "    </tr>\n",
       "  </thead>\n",
       "  <tbody>\n",
       "    <tr>\n",
       "      <th>0</th>\n",
       "      <td>1000</td>\n",
       "      <td>surf</td>\n",
       "      <td>2018-12</td>\n",
       "      <td>0.0</td>\n",
       "      <td>0.00</td>\n",
       "      <td>0.0</td>\n",
       "      <td>20.00</td>\n",
       "    </tr>\n",
       "    <tr>\n",
       "      <th>2293</th>\n",
       "      <td>1000</td>\n",
       "      <td>ultimate</td>\n",
       "      <td>2018-12</td>\n",
       "      <td>0.0</td>\n",
       "      <td>0.00</td>\n",
       "      <td>0.0</td>\n",
       "      <td>70.00</td>\n",
       "    </tr>\n",
       "    <tr>\n",
       "      <th>1</th>\n",
       "      <td>1001</td>\n",
       "      <td>surf</td>\n",
       "      <td>2018-08</td>\n",
       "      <td>0.0</td>\n",
       "      <td>0.00</td>\n",
       "      <td>60.0</td>\n",
       "      <td>80.00</td>\n",
       "    </tr>\n",
       "    <tr>\n",
       "      <th>2</th>\n",
       "      <td>1001</td>\n",
       "      <td>surf</td>\n",
       "      <td>2018-09</td>\n",
       "      <td>0.0</td>\n",
       "      <td>0.00</td>\n",
       "      <td>260.0</td>\n",
       "      <td>280.00</td>\n",
       "    </tr>\n",
       "    <tr>\n",
       "      <th>3</th>\n",
       "      <td>1001</td>\n",
       "      <td>surf</td>\n",
       "      <td>2018-10</td>\n",
       "      <td>0.0</td>\n",
       "      <td>0.09</td>\n",
       "      <td>350.0</td>\n",
       "      <td>370.09</td>\n",
       "    </tr>\n",
       "    <tr>\n",
       "      <th>4</th>\n",
       "      <td>1001</td>\n",
       "      <td>surf</td>\n",
       "      <td>2018-11</td>\n",
       "      <td>0.0</td>\n",
       "      <td>0.00</td>\n",
       "      <td>340.0</td>\n",
       "      <td>360.00</td>\n",
       "    </tr>\n",
       "    <tr>\n",
       "      <th>5</th>\n",
       "      <td>1001</td>\n",
       "      <td>surf</td>\n",
       "      <td>2018-12</td>\n",
       "      <td>0.0</td>\n",
       "      <td>0.00</td>\n",
       "      <td>400.0</td>\n",
       "      <td>420.00</td>\n",
       "    </tr>\n",
       "    <tr>\n",
       "      <th>2294</th>\n",
       "      <td>1001</td>\n",
       "      <td>ultimate</td>\n",
       "      <td>2018-08</td>\n",
       "      <td>0.0</td>\n",
       "      <td>0.00</td>\n",
       "      <td>0.0</td>\n",
       "      <td>70.00</td>\n",
       "    </tr>\n",
       "    <tr>\n",
       "      <th>2295</th>\n",
       "      <td>1001</td>\n",
       "      <td>ultimate</td>\n",
       "      <td>2018-09</td>\n",
       "      <td>0.0</td>\n",
       "      <td>0.00</td>\n",
       "      <td>77.0</td>\n",
       "      <td>147.00</td>\n",
       "    </tr>\n",
       "    <tr>\n",
       "      <th>2296</th>\n",
       "      <td>1001</td>\n",
       "      <td>ultimate</td>\n",
       "      <td>2018-10</td>\n",
       "      <td>0.0</td>\n",
       "      <td>0.00</td>\n",
       "      <td>140.0</td>\n",
       "      <td>210.00</td>\n",
       "    </tr>\n",
       "    <tr>\n",
       "      <th>2297</th>\n",
       "      <td>1001</td>\n",
       "      <td>ultimate</td>\n",
       "      <td>2018-11</td>\n",
       "      <td>0.0</td>\n",
       "      <td>0.00</td>\n",
       "      <td>133.0</td>\n",
       "      <td>203.00</td>\n",
       "    </tr>\n",
       "    <tr>\n",
       "      <th>2298</th>\n",
       "      <td>1001</td>\n",
       "      <td>ultimate</td>\n",
       "      <td>2018-12</td>\n",
       "      <td>0.0</td>\n",
       "      <td>0.00</td>\n",
       "      <td>175.0</td>\n",
       "      <td>245.00</td>\n",
       "    </tr>\n",
       "    <tr>\n",
       "      <th>6</th>\n",
       "      <td>1002</td>\n",
       "      <td>surf</td>\n",
       "      <td>2018-10</td>\n",
       "      <td>0.0</td>\n",
       "      <td>0.00</td>\n",
       "      <td>0.0</td>\n",
       "      <td>20.00</td>\n",
       "    </tr>\n",
       "    <tr>\n",
       "      <th>7</th>\n",
       "      <td>1002</td>\n",
       "      <td>surf</td>\n",
       "      <td>2018-11</td>\n",
       "      <td>0.0</td>\n",
       "      <td>0.00</td>\n",
       "      <td>300.0</td>\n",
       "      <td>320.00</td>\n",
       "    </tr>\n",
       "    <tr>\n",
       "      <th>8</th>\n",
       "      <td>1002</td>\n",
       "      <td>surf</td>\n",
       "      <td>2018-12</td>\n",
       "      <td>0.0</td>\n",
       "      <td>0.00</td>\n",
       "      <td>220.0</td>\n",
       "      <td>240.00</td>\n",
       "    </tr>\n",
       "  </tbody>\n",
       "</table>\n",
       "</div>"
      ],
      "text/plain": [
       "      user_id plan_name year_month  extra_minutes_cost  extra_messages_cost  \\\n",
       "0        1000      surf    2018-12                 0.0                 0.00   \n",
       "2293     1000  ultimate    2018-12                 0.0                 0.00   \n",
       "1        1001      surf    2018-08                 0.0                 0.00   \n",
       "2        1001      surf    2018-09                 0.0                 0.00   \n",
       "3        1001      surf    2018-10                 0.0                 0.09   \n",
       "4        1001      surf    2018-11                 0.0                 0.00   \n",
       "5        1001      surf    2018-12                 0.0                 0.00   \n",
       "2294     1001  ultimate    2018-08                 0.0                 0.00   \n",
       "2295     1001  ultimate    2018-09                 0.0                 0.00   \n",
       "2296     1001  ultimate    2018-10                 0.0                 0.00   \n",
       "2297     1001  ultimate    2018-11                 0.0                 0.00   \n",
       "2298     1001  ultimate    2018-12                 0.0                 0.00   \n",
       "6        1002      surf    2018-10                 0.0                 0.00   \n",
       "7        1002      surf    2018-11                 0.0                 0.00   \n",
       "8        1002      surf    2018-12                 0.0                 0.00   \n",
       "\n",
       "      extra_data_cost  mensual_pay  \n",
       "0                 0.0        20.00  \n",
       "2293              0.0        70.00  \n",
       "1                60.0        80.00  \n",
       "2               260.0       280.00  \n",
       "3               350.0       370.09  \n",
       "4               340.0       360.00  \n",
       "5               400.0       420.00  \n",
       "2294              0.0        70.00  \n",
       "2295             77.0       147.00  \n",
       "2296            140.0       210.00  \n",
       "2297            133.0       203.00  \n",
       "2298            175.0       245.00  \n",
       "6                 0.0        20.00  \n",
       "7               300.0       320.00  \n",
       "8               220.0       240.00  "
      ]
     },
     "execution_count": 33,
     "metadata": {},
     "output_type": "execute_result"
    }
   ],
   "source": [
    "# Calcular el ingreso mensual para cada usuario\n",
    "\n",
    "                            \n",
    "df_prices['mensual_pay'] = ( df_prices['usd_monthly_pay'] + df_prices['extra_minutes_cost'] + df_prices['extra_messages_cost'] + \n",
    "                            df_prices['extra_data_cost'])\n",
    "\n",
    "df_cost = df_prices[['user_id','plan_name','year_month','extra_minutes_cost', 'extra_messages_cost', 'extra_data_cost','mensual_pay']]\n",
    "df_cost.head(15)"
   ]
  },
  {
   "cell_type": "markdown",
   "metadata": {
    "id": "-jtyHzJb0q1I"
   },
   "source": [
    "## Estudiar el comportamiento de usuario"
   ]
  },
  {
   "cell_type": "markdown",
   "metadata": {
    "id": "vtW4CJEe0q1J"
   },
   "source": [
    "### Llamadas"
   ]
  },
  {
   "cell_type": "code",
   "execution_count": 34,
   "metadata": {
    "id": "Jf5v5--k0q1J"
   },
   "outputs": [
    {
     "data": {
      "image/png": "[encoded data removed]",
      "text/plain": [
       "<Figure size 1200x600 with 1 Axes>"
      ]
     },
     "metadata": {},
     "output_type": "display_data"
    }
   ],
   "source": [
    "# Comparar la duración promedio de llamadas por cada plan y por cada mes. Traza un gráfico de barras para visualizarla.\n",
    "\n",
    "avg_call_duration = df_prices.groupby(['plan_name', 'year_month'])['total_minutes'].mean().reset_index()\n",
    "\n",
    "plt.figure(figsize=(12, 6))\n",
    "sns.barplot(data=avg_call_duration, x='year_month', y='total_minutes', hue='plan_name')\n",
    "\n",
    "plt.xlabel('Mes y Año')\n",
    "plt.ylabel('Duración Promedio de Llamadas (minutos)')\n",
    "plt.title('Duración Promedio de Llamadas por Plan y Mes')\n",
    "plt.xticks(rotation=45)\n",
    "plt.legend(title='Plan')\n",
    "plt.tight_layout()\n",
    "\n",
    "plt.show()"
   ]
  },
  {
   "cell_type": "code",
   "execution_count": 35,
   "metadata": {
    "id": "QoLqW1S_0q1J"
   },
   "outputs": [
    {
     "data": {
      "image/png": "[encoded data removed]",
      "text/plain": [
       "<Figure size 1200x600 with 1 Axes>"
      ]
     },
     "metadata": {},
     "output_type": "display_data"
    }
   ],
   "source": [
    "# Comparar el número de minutos mensuales que necesitan los usuarios de cada plan. Traza un histograma.\n",
    "\n",
    "plt.figure(figsize=(12, 6))\n",
    "\n",
    "sns.histplot(data=df_prices, x='total_minutes', hue='plan_name', kde=True, bins=20, element=\"step\", stat=\"density\")\n",
    "\n",
    "plt.xlabel('Minutos Mensuales')\n",
    "plt.ylabel('Densidad')\n",
    "plt.title('Distribución de Minutos Mensuales por Plan')\n",
    "\n",
    "\n",
    "\n",
    "plt.show()\n"
   ]
  },
  {
   "cell_type": "code",
   "execution_count": 36,
   "metadata": {
    "id": "oSndbAnt0q1K"
   },
   "outputs": [
    {
     "name": "stdout",
     "output_type": "stream",
     "text": [
      "405.70606192760573\n",
      "49897.06865244894\n",
      "\n",
      "Media y varianza de duración mensual de llamadas por plan:\n",
      "  plan_name        mean           var\n",
      "0      surf  405.706062  49907.953702\n",
      "1  ultimate  405.706062  49907.953702\n"
     ]
    }
   ],
   "source": [
    "# Calcular la media y la varianza de la duración mensual de llamadas.\n",
    "mean_total_minutes = df_prices['total_minutes'].mean()\n",
    "var_total_minutes = df_prices['total_minutes'].var()\n",
    "\n",
    "print( mean_total_minutes)\n",
    "print( var_total_minutes)\n",
    "\n",
    "# Media y varianza por plan\n",
    "mean_var_by_plan = df_prices.groupby('plan_name')['total_minutes'].agg(['mean', 'var']).reset_index()\n",
    "print(\"\\nMedia y varianza de duración mensual de llamadas por plan:\")\n",
    "print(mean_var_by_plan)"
   ]
  },
  {
   "cell_type": "code",
   "execution_count": 37,
   "metadata": {
    "id": "nZzoRUKc0q1K"
   },
   "outputs": [
    {
     "data": {
      "image/png": "[encoded data removed]",
      "text/plain": [
       "<Figure size 1000x600 with 1 Axes>"
      ]
     },
     "metadata": {},
     "output_type": "display_data"
    }
   ],
   "source": [
    "# Trazar un diagrama de caja para visualizar la distribución de la duración mensual de llamadas\n",
    "\n",
    "sns.set(style=\"whitegrid\")\n",
    "\n",
    "\n",
    "plt.figure(figsize=(10, 6))\n",
    "sns.boxplot(x='plan_name', y='total_minutes', data=df_prices)\n",
    "\n",
    "plt.xlabel('Plan')\n",
    "plt.ylabel('Duración mensual de llamadas (minutos)')\n",
    "plt.title('Distribución de la duración mensual de llamadas por plan')\n",
    "plt.show()"
   ]
  },
  {
   "cell_type": "markdown",
   "metadata": {
    "id": "r627zBO50q1K"
   },
   "source": [
    "Conclusion: \n",
    "\n",
    "Sin importar el plan en el que un cliente este suscrito la duracion de las llamadas es la misma."
   ]
  },
  {
   "cell_type": "markdown",
   "metadata": {
    "id": "8idKy8Wh0q1L"
   },
   "source": [
    "### Mensajes"
   ]
  },
  {
   "cell_type": "code",
   "execution_count": 38,
   "metadata": {
    "id": "NXLxiTit0q1L"
   },
   "outputs": [
    {
     "data": {
      "image/png": "[encoded data removed]",
      "text/plain": [
       "<Figure size 800x600 with 1 Axes>"
      ]
     },
     "metadata": {},
     "output_type": "display_data"
    }
   ],
   "source": [
    "# Comparar el número de mensajes que tienden a enviar cada mes los usuarios de cada plan\n",
    "\n",
    "average_messages_per_month = df_prices.groupby('plan_name')['message_count'].mean()\n",
    "\n",
    "plt.figure(figsize=(8, 6))\n",
    "sns.barplot(x=average_messages_per_month.index, y=average_messages_per_month.values)\n",
    "\n",
    "plt.xlabel('Plan')\n",
    "plt.ylabel('Promedio de mensajes por mes')\n",
    "plt.title('Promedio de mensajes enviados por mes por los usuarios de cada plan')\n",
    "plt.show()\n"
   ]
  },
  {
   "cell_type": "code",
   "execution_count": 39,
   "metadata": {
    "id": "GRI_R7xF0q1L"
   },
   "outputs": [
    {
     "name": "stdout",
     "output_type": "stream",
     "text": [
      "33.166593981683384\n",
      "1160.517496662594\n",
      "\n",
      "Media y varianza de los mensajes mensuales por plan:\n",
      "  plan_name       mean          var\n",
      "0      surf  33.166594  1160.770664\n",
      "1  ultimate  33.166594  1160.770664\n"
     ]
    }
   ],
   "source": [
    "# Calcular la media y la varianza del numero mensual de mensajes.\n",
    "\n",
    "mean_messages = df_prices['message_count'].mean()\n",
    "var_messages = df_prices['message_count'].var()\n",
    "\n",
    "print( mean_messages)\n",
    "print( var_messages)\n",
    "\n",
    "# Media y varianza por plan\n",
    "mensajes_plan = df_prices.groupby('plan_name')['message_count'].agg(['mean', 'var']).reset_index()\n",
    "print(\"\\nMedia y varianza de los mensajes mensuales por plan:\")\n",
    "print(mensajes_plan)"
   ]
  },
  {
   "cell_type": "code",
   "execution_count": 40,
   "metadata": {
    "id": "dtFwCGAp0q1M"
   },
   "outputs": [
    {
     "data": {
      "image/png": "[encoded data removed]",
      "text/plain": [
       "<Figure size 1000x600 with 1 Axes>"
      ]
     },
     "metadata": {},
     "output_type": "display_data"
    }
   ],
   "source": [
    "# Trazar un diagrama de caja para visualizar la distribución de los mensajes por mes\n",
    "\n",
    "sns.set(style=\"whitegrid\")\n",
    "\n",
    "\n",
    "plt.figure(figsize=(10, 6))\n",
    "sns.boxplot(x='plan_name', y='message_count', data=df_prices)\n",
    "\n",
    "plt.xlabel('Plan')\n",
    "plt.ylabel('mensajes por mes')\n",
    "plt.title('Distribución los mensajes por mes por plan')\n",
    "plt.show()"
   ]
  },
  {
   "cell_type": "markdown",
   "metadata": {
    "id": "390SSL480q1M"
   },
   "source": [
    "Conclusion:\n",
    "El numero de mensajes que envian los usuarios es el mismo en ambos planes"
   ]
  },
  {
   "cell_type": "markdown",
   "metadata": {
    "id": "42YSypXz0q1M"
   },
   "source": [
    "### Internet"
   ]
  },
  {
   "cell_type": "code",
   "execution_count": 41,
   "metadata": {
    "id": "wnh8jYXi0q1N"
   },
   "outputs": [
    {
     "data": {
      "image/png": "[encoded data removed]",
      "text/plain": [
       "<Figure size 800x600 with 1 Axes>"
      ]
     },
     "metadata": {},
     "output_type": "display_data"
    }
   ],
   "source": [
    "# Comparar la cantidad de tráfico de Internet consumido por usuarios por plan\n",
    "\n",
    "average_data_per_plan = df_prices.groupby('plan_name')['gb_per_month'].mean()\n",
    "\n",
    "\n",
    "plt.figure(figsize=(8, 6))\n",
    "sns.barplot(x=average_data_per_plan.index, y=average_data_per_plan.values)\n",
    "\n",
    "\n",
    "plt.xlabel('Plan')\n",
    "plt.ylabel('Promedio de tráfico de Internet (GB) por mes')\n",
    "plt.title('Promedio de tráfico de Internet consumido por usuarios de cada plan')\n",
    "plt.show()\n",
    "\n"
   ]
  },
  {
   "cell_type": "code",
   "execution_count": 42,
   "metadata": {
    "id": "5VlyJ9ry0q1N"
   },
   "outputs": [
    {
     "name": "stdout",
     "output_type": "stream",
     "text": [
      "40.435673789795025\n",
      "304.1586747585583\n",
      "\n",
      "Media y varianza del interet mensual por plan:\n",
      "  plan_name       mean         var\n",
      "0      surf  40.435674  304.225027\n",
      "1  ultimate  40.435674  304.225027\n"
     ]
    }
   ],
   "source": [
    "# Calcular la media y la varianza del internet mensual.\n",
    "\n",
    "mean_gb = df_prices['gb_per_month'].mean()\n",
    "var_gb = df_prices['gb_per_month'].var()\n",
    "\n",
    "print( mean_gb)\n",
    "print( var_gb)\n",
    "\n",
    "# Media y varianza por plan\n",
    "internet_plan = df_prices.groupby('plan_name')['gb_per_month'].agg(['mean', 'var']).reset_index()\n",
    "print(\"\\nMedia y varianza del interet mensual por plan:\")\n",
    "print(internet_plan)"
   ]
  },
  {
   "cell_type": "code",
   "execution_count": 43,
   "metadata": {},
   "outputs": [
    {
     "data": {
      "image/png": "[encoded data removed]",
      "text/plain": [
       "<Figure size 1000x600 with 1 Axes>"
      ]
     },
     "metadata": {},
     "output_type": "display_data"
    }
   ],
   "source": [
    "# Trazar un diagrama de caja para visualizar la distribución del internet por mes\n",
    "\n",
    "sns.set(style=\"whitegrid\")\n",
    "\n",
    "\n",
    "plt.figure(figsize=(10, 6))\n",
    "sns.boxplot(x='plan_name', y='gb_per_month', data=df_prices)\n",
    "\n",
    "plt.xlabel('Plan')\n",
    "plt.ylabel('internet por mes')\n",
    "plt.title('Distribución del internet por mes por plan')\n",
    "plt.show()"
   ]
  },
  {
   "cell_type": "markdown",
   "metadata": {
    "id": "UN9zwuMP0q1N"
   },
   "source": [
    "Conclusion: \n",
    "Los usuarios de ambos planes utilizan el mismo numero de Gb de internet"
   ]
  },
  {
   "cell_type": "markdown",
   "metadata": {
    "id": "tCijq3260q1N"
   },
   "source": [
    "## Ingreso"
   ]
  },
  {
   "cell_type": "code",
   "execution_count": 44,
   "metadata": {
    "id": "tz-dq_V00q1O"
   },
   "outputs": [
    {
     "data": {
      "image/png": "[encoded data removed]",
      "text/plain": [
       "<Figure size 800x600 with 1 Axes>"
      ]
     },
     "metadata": {},
     "output_type": "display_data"
    }
   ],
   "source": [
    "# Comparar la cantidad de ingreso por usuarios por plan\n",
    "\n",
    "money_per_plan = df_cost.groupby('plan_name')['mensual_pay'].mean()\n",
    "\n",
    "\n",
    "plt.figure(figsize=(8, 6))\n",
    "sns.barplot(x=money_per_plan.index, y=money_per_plan.values)\n",
    "\n",
    "\n",
    "plt.xlabel('Plan')\n",
    "plt.ylabel('Promedio de ingreso por mes')\n",
    "plt.title('Promedio de ingreso por usuarios de cada plan')\n",
    "plt.show()\n",
    "\n",
    "\n"
   ]
  },
  {
   "cell_type": "code",
   "execution_count": 45,
   "metadata": {
    "id": "0Y1v8ZUz0q1P"
   },
   "outputs": [
    {
     "name": "stdout",
     "output_type": "stream",
     "text": [
      "224.66516790231137\n",
      "20400.77555749634\n",
      "\n",
      "Media y varianza del ingreso mensual por plan:\n",
      "  plan_name       mean         var\n",
      "0      surf  40.435674  304.225027\n",
      "1  ultimate  40.435674  304.225027\n"
     ]
    }
   ],
   "source": [
    "# Calcular la media y la varianza del ingreso mensual.\n",
    "\n",
    "mean_ingreso = df_cost['mensual_pay'].mean()\n",
    "var_ingreso = df_cost['mensual_pay'].var()\n",
    "\n",
    "print( mean_ingreso)\n",
    "print( var_ingreso)\n",
    "\n",
    "# Media y varianza por plan\n",
    "ingreso_plan = df_prices.groupby('plan_name')['gb_per_month'].agg(['mean', 'var']).reset_index()\n",
    "print(\"\\nMedia y varianza del ingreso mensual por plan:\")\n",
    "print(ingreso_plan)"
   ]
  },
  {
   "cell_type": "code",
   "execution_count": 46,
   "metadata": {
    "id": "bYmwxyVh0q1P"
   },
   "outputs": [
    {
     "data": {
      "image/png": "[encoded data removed]",
      "text/plain": [
       "<Figure size 1000x600 with 1 Axes>"
      ]
     },
     "metadata": {},
     "output_type": "display_data"
    }
   ],
   "source": [
    "# Trazar un diagrama de caja para visualizar la distribución del ingreso por mes\n",
    "\n",
    "sns.set(style=\"whitegrid\")\n",
    "\n",
    "\n",
    "plt.figure(figsize=(10, 6))\n",
    "sns.boxplot(x='plan_name', y='mensual_pay', data=df_cost)\n",
    "\n",
    "plt.xlabel('Plan')\n",
    "plt.ylabel('ingreso por mes')\n",
    "plt.title('Distribución del ingreso por mes por plan')\n",
    "plt.show()"
   ]
  },
  {
   "cell_type": "code",
   "execution_count": 47,
   "metadata": {},
   "outputs": [
    {
     "name": "stdout",
     "output_type": "stream",
     "text": [
      "4586\n",
      "2293\n",
      "2293\n"
     ]
    }
   ],
   "source": [
    "# Comprobar el numero de usuarios de cada plan\n",
    "\n",
    "print(df_cost.shape[0])\n",
    "print(df_cost[df_cost['plan_name']== 'surf'].shape[0])\n",
    "print(df_cost[df_cost['plan_name']== 'ultimate'].shape[0])"
   ]
  },
  {
   "cell_type": "markdown",
   "metadata": {
    "id": "KAFidcXZ0q1P"
   },
   "source": [
    "Conclusion:\n",
    "Una vez comprobando que ambos planes tienen el mismo numero de usuarios pude concluir que:\n",
    "A pesar de que el plan ultimate es el mas caro, el plan surf tiene mas ingresos, esto se debe a que los usuarios del plan surf rebasan los rangos incluidos en sus servicios y terminan pagando los costos extra."
   ]
  },
  {
   "cell_type": "markdown",
   "metadata": {
    "id": "ajJ7VKeI0q1Q"
   },
   "source": [
    "## Prueba de las hipótesis estadísticas"
   ]
  },
  {
   "cell_type": "markdown",
   "metadata": {},
   "source": [
    "### Primera Hipotesis"
   ]
  },
  {
   "cell_type": "markdown",
   "metadata": {
    "id": "IQwa_hsh0q1Q"
   },
   "source": [
    "Hipótesis Nula: Los ingresos promedio de los usuarios de los planes Ultimate y Surf son iguales.\n",
    "\n",
    "Hipótesis Alternativa: Los ingresos promedio de los usuarios de los planes Ultimate y Surf son diferentes.\n",
    "\n",
    "Alfa:0.05"
   ]
  },
  {
   "cell_type": "code",
   "execution_count": 48,
   "metadata": {
    "id": "nFoPNlPq0q1R"
   },
   "outputs": [
    {
     "name": "stdout",
     "output_type": "stream",
     "text": [
      "valor p:  2.0195180116907488e-189\n",
      "Rechazamos la hipótesis nula\n"
     ]
    }
   ],
   "source": [
    "# Prueba de las hipótesis\n",
    "from scipy import stats as st\n",
    "\n",
    "surf = df_cost[df_cost['plan_name']== 'surf']['mensual_pay']\n",
    "ultimate = df_cost[df_cost['plan_name']== 'ultimate']['mensual_pay']\n",
    "\n",
    "alpha = 0.05\n",
    "\n",
    "\n",
    "results = st.ttest_ind(surf, ultimate) # realizar una prueba\n",
    "\n",
    "print('valor p: ', results.pvalue) # extraer el valor p\n",
    "\n",
    "if results.pvalue < alpha: # comparar el valor p con el umbral\n",
    "    print(\"Rechazamos la hipótesis nula\")\n",
    "else:\n",
    "    print(\"No podemos rechazar la hipótesis nula\")"
   ]
  },
  {
   "cell_type": "markdown",
   "metadata": {},
   "source": [
    "### Segunda Hipotesis"
   ]
  },
  {
   "cell_type": "markdown",
   "metadata": {
    "id": "LsBgitqj0q1R"
   },
   "source": [
    "Hipótesis Nula: El ingreso promedio de los usuarios del área NY-NJ es igual al de los usuarios de otras regiones.\n",
    "\n",
    "Hipótesis Alternativa: El ingreso promedio de los usuarios del área NY-NJ es diferente al de los usuarios de otras regiones.\n",
    "\n",
    "Alfa:0.05"
   ]
  },
  {
   "cell_type": "code",
   "execution_count": 49,
   "metadata": {},
   "outputs": [
    {
     "name": "stdout",
     "output_type": "stream",
     "text": [
      "<class 'pandas.core.frame.DataFrame'>\n",
      "Index: 4586 entries, 0 to 4585\n",
      "Data columns (total 7 columns):\n",
      " #   Column               Non-Null Count  Dtype    \n",
      "---  ------               --------------  -----    \n",
      " 0   user_id              4586 non-null   int64    \n",
      " 1   plan_name            4586 non-null   object   \n",
      " 2   year_month           4586 non-null   period[M]\n",
      " 3   extra_minutes_cost   4586 non-null   float64  \n",
      " 4   extra_messages_cost  4586 non-null   float64  \n",
      " 5   extra_data_cost      4586 non-null   float64  \n",
      " 6   mensual_pay          4586 non-null   float64  \n",
      "dtypes: float64(4), int64(1), object(1), period[M](1)\n",
      "memory usage: 286.6+ KB\n"
     ]
    }
   ],
   "source": [
    "# Mostrar informacion de la tabla\n",
    "df_cost.info()"
   ]
  },
  {
   "cell_type": "code",
   "execution_count": 50,
   "metadata": {},
   "outputs": [],
   "source": [
    "#Agregar a df_users la columna de los pagos mensuales\n",
    "\n",
    "df_hyp = pd.merge(df_users, df_cost, on='user_id', how='left')\n",
    "df_hyp = df_hyp.dropna(subset=['mensual_pay'])\n"
   ]
  },
  {
   "cell_type": "code",
   "execution_count": 51,
   "metadata": {},
   "outputs": [
    {
     "name": "stdout",
     "output_type": "stream",
     "text": [
      "225.50441644562338\n",
      "224.50003392484345\n"
     ]
    }
   ],
   "source": [
    "# Calcular la media de los ingresos de NY-NJ y la de las demas ciudades\n",
    "nynj = df_hyp[df_hyp['city'] == 'New York-Newark-Jersey City, NY-NJ-PA MSA']\n",
    "\n",
    "other_citys = df_hyp[df_hyp['city'] != 'New York-Newark-Jersey City, NY-NJ-PA MSA']\n",
    "\n",
    "print(nynj['mensual_pay'].mean())\n",
    "print(other_citys['mensual_pay'].mean())"
   ]
  },
  {
   "cell_type": "code",
   "execution_count": 52,
   "metadata": {
    "id": "Cqcj7wrZ0q1S"
   },
   "outputs": [
    {
     "name": "stdout",
     "output_type": "stream",
     "text": [
      "valor p:  0.8599196060193487\n",
      "No podemos rechazar la hipótesis nula\n"
     ]
    }
   ],
   "source": [
    "# Prueba de las hipótesis\n",
    "from scipy import stats as st\n",
    "\n",
    "nynj_pays = nynj['mensual_pay']\n",
    "\n",
    "other_citys_pays = other_citys['mensual_pay']\n",
    "\n",
    "alpha = 0.05\n",
    "\n",
    "\n",
    "results = st.ttest_ind(nynj_pays, other_citys_pays) # realizar una prueba\n",
    "\n",
    "print('valor p: ', results.pvalue) # extraer el valor p\n",
    "\n",
    "if results.pvalue < alpha: # comparar el valor p con el umbral\n",
    "    print(\"Rechazamos la hipótesis nula\")\n",
    "else:\n",
    "    print(\"No podemos rechazar la hipótesis nula\")\n"
   ]
  },
  {
   "cell_type": "markdown",
   "metadata": {
    "id": "bbTR8UQO0q1T"
   },
   "source": [
    "## Conclusión general\n",
    "\n",
    "\n",
    "En general, este análisis proporcionó información valiosa sobre los patrones de consumo y cómo los diferentes planes afectan los ingresos de la compañía. También mostró la importancia de entender el comportamiento de los usuarios en relación con los costos adicionales, lo que puede ayudar a mejorar la oferta de servicios y la estrategia de precios. Lo mas notorio fue que la compañia podría ganar mas con el plan surf, ya que los usuarios rebasan la tarifa y tendrían que pagar costos extras"
   ]
  }
 ],
 "metadata": {
  "ExecuteTimeLog": [
   {
    "duration": 828,
    "start_time": "2021-11-16T09:21:11.304Z"
   },
   {
    "duration": 893,
    "start_time": "2021-11-16T09:21:17.728Z"
   },
   {
    "duration": 1150,
    "start_time": "2021-11-16T09:21:29.568Z"
   },
   {
    "duration": 3,
    "start_time": "2021-11-16T09:24:14.495Z"
   },
   {
    "duration": 120,
    "start_time": "2021-11-16T09:24:46.630Z"
   },
   {
    "duration": 3,
    "start_time": "2021-11-16T09:28:27.882Z"
   },
   {
    "duration": 4,
    "start_time": "2021-11-16T09:29:54.281Z"
   },
   {
    "duration": 3,
    "start_time": "2021-11-16T09:30:45.936Z"
   },
   {
    "duration": 4,
    "start_time": "2021-11-16T09:31:06.300Z"
   },
   {
    "duration": 113,
    "start_time": "2021-11-16T09:31:37.208Z"
   },
   {
    "duration": 143,
    "start_time": "2021-11-16T09:31:48.656Z"
   },
   {
    "duration": 98,
    "start_time": "2021-11-16T09:31:55.678Z"
   },
   {
    "duration": 3,
    "start_time": "2021-11-16T09:32:08.535Z"
   },
   {
    "duration": 111,
    "start_time": "2021-11-16T09:32:10.120Z"
   },
   {
    "duration": 3,
    "start_time": "2021-11-16T09:32:15.732Z"
   },
   {
    "duration": 4,
    "start_time": "2021-11-16T09:32:29.423Z"
   },
   {
    "duration": 3,
    "start_time": "2021-11-16T10:03:03.074Z"
   },
   {
    "duration": 3,
    "start_time": "2021-11-16T10:10:01.288Z"
   },
   {
    "duration": 3,
    "start_time": "2021-11-16T10:10:46.923Z"
   },
   {
    "duration": 121,
    "start_time": "2021-11-16T10:37:46.494Z"
   },
   {
    "duration": 125,
    "start_time": "2021-11-16T10:38:20.632Z"
   },
   {
    "duration": 112,
    "start_time": "2021-11-16T10:46:53.001Z"
   },
   {
    "duration": 110,
    "start_time": "2021-11-16T10:48:25.775Z"
   },
   {
    "duration": 3,
    "start_time": "2021-11-16T10:50:18.720Z"
   },
   {
    "duration": 4,
    "start_time": "2021-11-16T10:50:37.649Z"
   },
   {
    "duration": 2,
    "start_time": "2021-11-16T10:50:51.884Z"
   },
   {
    "duration": 3,
    "start_time": "2021-11-16T10:51:56.237Z"
   },
   {
    "duration": 101,
    "start_time": "2021-11-16T10:53:13.791Z"
   },
   {
    "duration": 3,
    "start_time": "2021-11-16T10:55:59.186Z"
   },
   {
    "duration": 3,
    "start_time": "2021-11-16T10:56:10.751Z"
   },
   {
    "duration": 3,
    "start_time": "2021-11-16T10:56:49.038Z"
   },
   {
    "duration": 3,
    "start_time": "2021-11-16T10:56:49.174Z"
   },
   {
    "duration": 4,
    "start_time": "2021-11-16T10:56:49.414Z"
   },
   {
    "duration": 3,
    "start_time": "2021-11-16T10:56:49.680Z"
   },
   {
    "duration": 3,
    "start_time": "2021-11-16T10:56:50.370Z"
   },
   {
    "duration": 114,
    "start_time": "2021-11-16T10:59:34.518Z"
   },
   {
    "duration": 3,
    "start_time": "2021-11-16T11:01:41.201Z"
   },
   {
    "duration": 116,
    "start_time": "2021-11-16T11:01:48.754Z"
   },
   {
    "duration": 3,
    "start_time": "2021-11-16T11:02:16.685Z"
   },
   {
    "duration": 3,
    "start_time": "2021-11-16T11:02:19.479Z"
   },
   {
    "duration": 3,
    "start_time": "2021-11-16T11:02:47.067Z"
   },
   {
    "duration": 3,
    "start_time": "2021-11-16T11:02:49.353Z"
   },
   {
    "duration": 3,
    "start_time": "2021-11-16T11:03:07.835Z"
   },
   {
    "duration": 3,
    "start_time": "2021-11-16T11:03:07.953Z"
   },
   {
    "duration": 112,
    "start_time": "2021-11-16T11:07:52.072Z"
   },
   {
    "duration": 187,
    "start_time": "2021-11-16T11:09:23.468Z"
   },
   {
    "duration": 4,
    "start_time": "2021-11-16T11:10:01.455Z"
   },
   {
    "duration": 3,
    "start_time": "2021-11-16T11:10:05.069Z"
   },
   {
    "duration": 4,
    "start_time": "2021-11-16T11:10:13.376Z"
   },
   {
    "duration": 3,
    "start_time": "2021-11-16T11:10:14.434Z"
   },
   {
    "duration": 3,
    "start_time": "2021-11-16T11:10:22.853Z"
   },
   {
    "duration": 4,
    "start_time": "2021-11-16T11:27:29.279Z"
   },
   {
    "duration": 4,
    "start_time": "2021-11-16T11:29:08.919Z"
   },
   {
    "duration": 118,
    "start_time": "2021-11-16T11:29:46.703Z"
   },
   {
    "duration": 437,
    "start_time": "2021-11-16T11:36:02.181Z"
   },
   {
    "duration": 157,
    "start_time": "2021-11-16T11:36:14.388Z"
   },
   {
    "duration": 207,
    "start_time": "2021-11-16T11:47:15.898Z"
   },
   {
    "duration": 3,
    "start_time": "2021-11-16T11:53:52.092Z"
   },
   {
    "duration": 3,
    "start_time": "2021-11-16T11:53:52.236Z"
   },
   {
    "duration": 3,
    "start_time": "2021-11-16T11:59:12.005Z"
   },
   {
    "duration": 112,
    "start_time": "2021-11-16T12:00:33.446Z"
   },
   {
    "duration": 3,
    "start_time": "2021-11-16T12:02:14.453Z"
   },
   {
    "duration": 3,
    "start_time": "2021-11-16T12:02:39.512Z"
   },
   {
    "duration": 106,
    "start_time": "2021-11-16T12:03:03.460Z"
   },
   {
    "duration": 3,
    "start_time": "2021-11-17T20:37:21.139Z"
   },
   {
    "duration": 3,
    "start_time": "2021-11-17T20:37:22.229Z"
   },
   {
    "duration": 3,
    "start_time": "2021-11-17T20:38:38.806Z"
   },
   {
    "duration": 3,
    "start_time": "2021-11-17T20:38:41.958Z"
   },
   {
    "duration": 3,
    "start_time": "2021-11-17T20:43:46.551Z"
   },
   {
    "duration": 4,
    "start_time": "2021-11-17T20:58:21.835Z"
   },
   {
    "duration": 3,
    "start_time": "2021-11-17T20:59:21.872Z"
   },
   {
    "duration": 4,
    "start_time": "2021-11-17T20:59:45.352Z"
   },
   {
    "duration": 4,
    "start_time": "2021-11-17T20:59:49.646Z"
   },
   {
    "duration": 159,
    "start_time": "2021-11-17T21:02:26.949Z"
   },
   {
    "duration": 3,
    "start_time": "2021-11-17T21:03:53.461Z"
   },
   {
    "duration": 3,
    "start_time": "2021-11-17T21:03:53.694Z"
   },
   {
    "duration": 3,
    "start_time": "2021-11-17T21:05:28.145Z"
   },
   {
    "duration": 116,
    "start_time": "2021-11-17T21:05:57.787Z"
   },
   {
    "duration": 3,
    "start_time": "2021-11-17T21:06:37.993Z"
   },
   {
    "duration": 3,
    "start_time": "2021-11-17T21:06:38.261Z"
   },
   {
    "duration": 3,
    "start_time": "2021-11-17T21:11:54.358Z"
   },
   {
    "duration": 3,
    "start_time": "2021-11-17T21:12:43.846Z"
   },
   {
    "duration": 4,
    "start_time": "2021-11-17T21:13:08.773Z"
   },
   {
    "duration": 3,
    "start_time": "2021-11-17T21:14:44.441Z"
   },
   {
    "duration": 3,
    "start_time": "2021-11-17T21:15:42.059Z"
   },
   {
    "duration": 4,
    "start_time": "2021-11-17T21:15:51.995Z"
   },
   {
    "duration": 3,
    "start_time": "2021-11-17T21:15:53.923Z"
   },
   {
    "duration": 3,
    "start_time": "2021-11-17T21:15:55.282Z"
   },
   {
    "duration": 3,
    "start_time": "2021-11-17T21:16:28.492Z"
   },
   {
    "duration": 3,
    "start_time": "2021-11-17T21:16:32.603Z"
   },
   {
    "duration": 3,
    "start_time": "2021-11-17T21:17:06.941Z"
   },
   {
    "duration": 98,
    "start_time": "2021-11-17T21:18:05.733Z"
   },
   {
    "duration": 4,
    "start_time": "2021-11-17T21:21:35.255Z"
   },
   {
    "duration": 3,
    "start_time": "2021-11-17T21:21:37.804Z"
   },
   {
    "duration": 4,
    "start_time": "2021-11-17T21:23:06.071Z"
   },
   {
    "duration": 3,
    "start_time": "2021-11-17T21:23:24.799Z"
   },
   {
    "duration": 3,
    "start_time": "2021-11-17T21:23:32.591Z"
   },
   {
    "duration": 98,
    "start_time": "2021-11-17T21:28:31.559Z"
   },
   {
    "duration": 3,
    "start_time": "2021-11-17T21:28:45.448Z"
   },
   {
    "duration": 3,
    "start_time": "2021-11-17T21:29:17.303Z"
   },
   {
    "duration": 3,
    "start_time": "2021-11-17T21:29:29.617Z"
   },
   {
    "duration": 3,
    "start_time": "2021-11-17T21:29:32.681Z"
   },
   {
    "duration": 3,
    "start_time": "2021-11-17T21:36:11.474Z"
   },
   {
    "duration": 3,
    "start_time": "2021-11-17T21:36:14.791Z"
   },
   {
    "duration": 3,
    "start_time": "2021-11-17T21:36:53.943Z"
   },
   {
    "duration": 3,
    "start_time": "2021-11-17T21:36:56.165Z"
   },
   {
    "duration": 4,
    "start_time": "2021-11-17T21:37:16.590Z"
   },
   {
    "duration": 3,
    "start_time": "2021-11-17T21:37:22.702Z"
   },
   {
    "duration": 4,
    "start_time": "2021-11-17T21:38:03.479Z"
   },
   {
    "duration": 3,
    "start_time": "2021-11-17T21:38:08.601Z"
   },
   {
    "duration": 3,
    "start_time": "2021-11-17T21:38:12.928Z"
   },
   {
    "duration": 3,
    "start_time": "2021-11-17T21:38:48.896Z"
   },
   {
    "duration": 2,
    "start_time": "2021-11-17T21:38:49.171Z"
   },
   {
    "duration": 4,
    "start_time": "2021-11-17T21:39:57.889Z"
   },
   {
    "duration": 3,
    "start_time": "2021-11-17T21:39:58.057Z"
   },
   {
    "duration": 3,
    "start_time": "2021-11-17T21:41:20.108Z"
   },
   {
    "duration": 3,
    "start_time": "2021-11-17T21:41:20.629Z"
   },
   {
    "duration": 3,
    "start_time": "2021-11-17T21:42:49.136Z"
   },
   {
    "duration": 3,
    "start_time": "2021-11-17T21:43:15.137Z"
   },
   {
    "duration": 4,
    "start_time": "2021-11-17T21:43:16.766Z"
   },
   {
    "duration": 4,
    "start_time": "2021-11-17T21:43:31.711Z"
   },
   {
    "duration": 3,
    "start_time": "2021-11-17T21:43:36.312Z"
   },
   {
    "duration": 4,
    "start_time": "2021-11-17T21:45:08.825Z"
   },
   {
    "duration": 4,
    "start_time": "2021-11-17T21:45:10.119Z"
   },
   {
    "duration": 4,
    "start_time": "2021-11-17T21:45:13.748Z"
   },
   {
    "duration": 3,
    "start_time": "2021-11-17T21:45:22.219Z"
   },
   {
    "duration": 3,
    "start_time": "2021-11-17T21:45:33.412Z"
   },
   {
    "duration": 2,
    "start_time": "2021-11-17T21:46:01.885Z"
   },
   {
    "duration": 3,
    "start_time": "2021-11-17T21:46:03.628Z"
   },
   {
    "duration": 107,
    "start_time": "2021-11-17T21:47:32.512Z"
   },
   {
    "duration": 103,
    "start_time": "2021-11-17T21:50:36.243Z"
   },
   {
    "duration": 3,
    "start_time": "2021-11-18T06:28:31.440Z"
   },
   {
    "duration": 3,
    "start_time": "2021-11-18T06:29:00.168Z"
   },
   {
    "duration": 3,
    "start_time": "2021-11-18T06:31:27.008Z"
   },
   {
    "duration": 2,
    "start_time": "2021-11-18T06:35:34.288Z"
   },
   {
    "duration": 2,
    "start_time": "2021-11-18T06:38:04.527Z"
   },
   {
    "duration": 618,
    "start_time": "2024-11-01T22:18:43.771Z"
   },
   {
    "duration": 6,
    "start_time": "2024-11-01T22:24:12.664Z"
   },
   {
    "duration": 233,
    "start_time": "2024-11-01T22:25:44.477Z"
   },
   {
    "duration": 11,
    "start_time": "2024-11-01T22:28:40.835Z"
   },
   {
    "duration": 11,
    "start_time": "2024-11-01T22:29:08.635Z"
   },
   {
    "duration": 157,
    "start_time": "2024-11-02T16:30:23.297Z"
   },
   {
    "duration": 626,
    "start_time": "2024-11-02T16:30:33.205Z"
   },
   {
    "duration": 250,
    "start_time": "2024-11-02T16:30:33.834Z"
   },
   {
    "duration": 9,
    "start_time": "2024-11-02T16:30:34.085Z"
   },
   {
    "duration": 12,
    "start_time": "2024-11-02T16:30:34.095Z"
   },
   {
    "duration": 67,
    "start_time": "2024-11-02T16:30:34.110Z"
   },
   {
    "duration": 0,
    "start_time": "2024-11-02T16:30:34.179Z"
   },
   {
    "duration": 0,
    "start_time": "2024-11-02T16:30:34.181Z"
   },
   {
    "duration": 0,
    "start_time": "2024-11-02T16:30:34.182Z"
   },
   {
    "duration": 0,
    "start_time": "2024-11-02T16:30:34.183Z"
   },
   {
    "duration": 0,
    "start_time": "2024-11-02T16:30:34.185Z"
   },
   {
    "duration": 0,
    "start_time": "2024-11-02T16:30:34.186Z"
   },
   {
    "duration": 0,
    "start_time": "2024-11-02T16:30:34.187Z"
   },
   {
    "duration": 0,
    "start_time": "2024-11-02T16:30:34.188Z"
   },
   {
    "duration": 0,
    "start_time": "2024-11-02T16:30:34.190Z"
   },
   {
    "duration": 0,
    "start_time": "2024-11-02T16:30:34.191Z"
   },
   {
    "duration": 0,
    "start_time": "2024-11-02T16:30:34.194Z"
   },
   {
    "duration": 0,
    "start_time": "2024-11-02T16:30:34.196Z"
   },
   {
    "duration": 0,
    "start_time": "2024-11-02T16:30:34.197Z"
   },
   {
    "duration": 0,
    "start_time": "2024-11-02T16:30:34.198Z"
   },
   {
    "duration": 0,
    "start_time": "2024-11-02T16:30:34.200Z"
   },
   {
    "duration": 0,
    "start_time": "2024-11-02T16:30:34.201Z"
   },
   {
    "duration": 0,
    "start_time": "2024-11-02T16:30:34.203Z"
   },
   {
    "duration": 0,
    "start_time": "2024-11-02T16:30:34.204Z"
   },
   {
    "duration": 0,
    "start_time": "2024-11-02T16:30:34.206Z"
   },
   {
    "duration": 0,
    "start_time": "2024-11-02T16:30:34.207Z"
   },
   {
    "duration": 0,
    "start_time": "2024-11-02T16:30:34.243Z"
   },
   {
    "duration": 0,
    "start_time": "2024-11-02T16:30:34.244Z"
   },
   {
    "duration": 0,
    "start_time": "2024-11-02T16:30:34.245Z"
   },
   {
    "duration": 10,
    "start_time": "2024-11-02T16:30:57.395Z"
   },
   {
    "duration": 9,
    "start_time": "2024-11-02T16:31:21.391Z"
   },
   {
    "duration": 15,
    "start_time": "2024-11-02T17:28:30.238Z"
   },
   {
    "duration": 7,
    "start_time": "2024-11-02T17:28:52.616Z"
   },
   {
    "duration": 617,
    "start_time": "2024-11-02T18:36:41.055Z"
   },
   {
    "duration": 208,
    "start_time": "2024-11-02T18:36:41.674Z"
   },
   {
    "duration": 10,
    "start_time": "2024-11-02T18:36:41.884Z"
   },
   {
    "duration": 10,
    "start_time": "2024-11-02T18:36:41.896Z"
   },
   {
    "duration": 7,
    "start_time": "2024-11-02T18:36:41.908Z"
   },
   {
    "duration": 8,
    "start_time": "2024-11-02T18:36:41.917Z"
   },
   {
    "duration": 15,
    "start_time": "2024-11-02T18:36:41.927Z"
   },
   {
    "duration": 6,
    "start_time": "2024-11-02T18:36:41.943Z"
   },
   {
    "duration": 4,
    "start_time": "2024-11-02T18:36:41.951Z"
   },
   {
    "duration": 3,
    "start_time": "2024-11-02T18:36:41.956Z"
   },
   {
    "duration": 3,
    "start_time": "2024-11-02T18:36:41.960Z"
   },
   {
    "duration": 42,
    "start_time": "2024-11-02T18:36:41.964Z"
   },
   {
    "duration": 2,
    "start_time": "2024-11-02T18:36:42.008Z"
   },
   {
    "duration": 2,
    "start_time": "2024-11-02T18:36:42.014Z"
   },
   {
    "duration": 2,
    "start_time": "2024-11-02T18:36:42.018Z"
   },
   {
    "duration": 2,
    "start_time": "2024-11-02T18:36:42.021Z"
   },
   {
    "duration": 3,
    "start_time": "2024-11-02T18:36:42.025Z"
   },
   {
    "duration": 2,
    "start_time": "2024-11-02T18:36:42.029Z"
   },
   {
    "duration": 2,
    "start_time": "2024-11-02T18:36:42.033Z"
   },
   {
    "duration": 2,
    "start_time": "2024-11-02T18:36:42.037Z"
   },
   {
    "duration": 2,
    "start_time": "2024-11-02T18:36:42.041Z"
   },
   {
    "duration": 2,
    "start_time": "2024-11-02T18:36:42.045Z"
   },
   {
    "duration": 4,
    "start_time": "2024-11-02T18:36:42.050Z"
   },
   {
    "duration": 2,
    "start_time": "2024-11-02T18:36:42.105Z"
   },
   {
    "duration": 2,
    "start_time": "2024-11-02T18:36:42.109Z"
   },
   {
    "duration": 2,
    "start_time": "2024-11-02T18:36:42.114Z"
   },
   {
    "duration": 2,
    "start_time": "2024-11-02T18:36:42.118Z"
   },
   {
    "duration": 2,
    "start_time": "2024-11-02T18:36:42.122Z"
   },
   {
    "duration": 5,
    "start_time": "2024-11-02T18:39:51.638Z"
   },
   {
    "duration": 4,
    "start_time": "2024-11-02T18:39:57.780Z"
   },
   {
    "duration": 16,
    "start_time": "2024-11-02T18:40:12.963Z"
   },
   {
    "duration": 20,
    "start_time": "2024-11-02T18:40:28.334Z"
   },
   {
    "duration": 53,
    "start_time": "2024-11-02T18:41:04.761Z"
   },
   {
    "duration": 12,
    "start_time": "2024-11-02T18:41:42.531Z"
   },
   {
    "duration": 6,
    "start_time": "2024-11-02T18:42:03.858Z"
   },
   {
    "duration": 20,
    "start_time": "2024-11-02T18:46:04.091Z"
   },
   {
    "duration": 14,
    "start_time": "2024-11-02T18:46:23.757Z"
   },
   {
    "duration": 6,
    "start_time": "2024-11-02T18:46:41.378Z"
   },
   {
    "duration": 129,
    "start_time": "2024-11-02T18:49:03.453Z"
   },
   {
    "duration": 23,
    "start_time": "2024-11-02T18:49:15.573Z"
   },
   {
    "duration": 656,
    "start_time": "2024-11-04T21:57:45.280Z"
   },
   {
    "duration": 212,
    "start_time": "2024-11-04T21:57:45.941Z"
   },
   {
    "duration": 11,
    "start_time": "2024-11-04T21:57:46.155Z"
   },
   {
    "duration": 12,
    "start_time": "2024-11-04T21:57:46.167Z"
   },
   {
    "duration": 7,
    "start_time": "2024-11-04T21:57:46.181Z"
   },
   {
    "duration": 8,
    "start_time": "2024-11-04T21:57:46.190Z"
   },
   {
    "duration": 14,
    "start_time": "2024-11-04T21:57:46.200Z"
   },
   {
    "duration": 7,
    "start_time": "2024-11-04T21:57:46.216Z"
   },
   {
    "duration": 57,
    "start_time": "2024-11-04T21:57:46.225Z"
   },
   {
    "duration": 12,
    "start_time": "2024-11-04T21:57:46.284Z"
   },
   {
    "duration": 6,
    "start_time": "2024-11-04T21:57:46.297Z"
   },
   {
    "duration": 30,
    "start_time": "2024-11-04T21:57:46.305Z"
   },
   {
    "duration": 38,
    "start_time": "2024-11-04T21:57:46.338Z"
   },
   {
    "duration": 7,
    "start_time": "2024-11-04T21:57:46.379Z"
   },
   {
    "duration": 24,
    "start_time": "2024-11-04T21:57:46.387Z"
   },
   {
    "duration": 2,
    "start_time": "2024-11-04T21:57:46.413Z"
   },
   {
    "duration": 3,
    "start_time": "2024-11-04T21:57:46.416Z"
   },
   {
    "duration": 2,
    "start_time": "2024-11-04T21:57:46.420Z"
   },
   {
    "duration": 2,
    "start_time": "2024-11-04T21:57:46.424Z"
   },
   {
    "duration": 3,
    "start_time": "2024-11-04T21:57:46.428Z"
   },
   {
    "duration": 38,
    "start_time": "2024-11-04T21:57:46.432Z"
   },
   {
    "duration": 2,
    "start_time": "2024-11-04T21:57:46.472Z"
   },
   {
    "duration": 3,
    "start_time": "2024-11-04T21:57:46.476Z"
   },
   {
    "duration": 2,
    "start_time": "2024-11-04T21:57:46.480Z"
   },
   {
    "duration": 2,
    "start_time": "2024-11-04T21:57:46.484Z"
   },
   {
    "duration": 2,
    "start_time": "2024-11-04T21:57:46.488Z"
   },
   {
    "duration": 2,
    "start_time": "2024-11-04T21:57:46.492Z"
   },
   {
    "duration": 2,
    "start_time": "2024-11-04T21:57:46.496Z"
   },
   {
    "duration": 2,
    "start_time": "2024-11-04T21:57:46.500Z"
   },
   {
    "duration": 3,
    "start_time": "2024-11-04T21:57:46.504Z"
   },
   {
    "duration": 2,
    "start_time": "2024-11-04T21:57:46.509Z"
   },
   {
    "duration": 7,
    "start_time": "2024-11-04T21:58:54.647Z"
   },
   {
    "duration": 19,
    "start_time": "2024-11-04T22:07:49.625Z"
   },
   {
    "duration": 20,
    "start_time": "2024-11-04T22:07:56.697Z"
   },
   {
    "duration": 13,
    "start_time": "2024-11-04T22:11:27.085Z"
   },
   {
    "duration": 15,
    "start_time": "2024-11-04T22:11:42.420Z"
   },
   {
    "duration": 17,
    "start_time": "2024-11-04T22:14:12.339Z"
   },
   {
    "duration": 19,
    "start_time": "2024-11-04T22:18:55.793Z"
   },
   {
    "duration": 5,
    "start_time": "2024-11-04T23:17:52.339Z"
   },
   {
    "duration": 500,
    "start_time": "2024-11-04T23:18:13.371Z"
   },
   {
    "duration": 17,
    "start_time": "2024-11-04T23:20:34.710Z"
   },
   {
    "duration": 18,
    "start_time": "2024-11-04T23:21:37.454Z"
   },
   {
    "duration": 23,
    "start_time": "2024-11-04T23:21:49.108Z"
   },
   {
    "duration": 17,
    "start_time": "2024-11-04T23:22:24.890Z"
   },
   {
    "duration": 14,
    "start_time": "2024-11-04T23:22:32.579Z"
   },
   {
    "duration": 205,
    "start_time": "2024-11-04T23:26:13.940Z"
   },
   {
    "duration": 11,
    "start_time": "2024-11-04T23:26:28.000Z"
   },
   {
    "duration": 9,
    "start_time": "2024-11-04T23:26:58.769Z"
   },
   {
    "duration": 313,
    "start_time": "2024-11-04T23:28:47.305Z"
   },
   {
    "duration": 287,
    "start_time": "2024-11-04T23:29:23.121Z"
   },
   {
    "duration": 11,
    "start_time": "2024-11-04T23:29:31.207Z"
   },
   {
    "duration": 19,
    "start_time": "2024-11-04T23:32:54.170Z"
   },
   {
    "duration": 601,
    "start_time": "2024-11-05T22:21:20.987Z"
   },
   {
    "duration": 201,
    "start_time": "2024-11-05T22:21:21.590Z"
   },
   {
    "duration": 10,
    "start_time": "2024-11-05T22:21:21.792Z"
   },
   {
    "duration": 10,
    "start_time": "2024-11-05T22:21:21.804Z"
   },
   {
    "duration": 7,
    "start_time": "2024-11-05T22:21:21.817Z"
   },
   {
    "duration": 8,
    "start_time": "2024-11-05T22:21:21.825Z"
   },
   {
    "duration": 14,
    "start_time": "2024-11-05T22:21:21.835Z"
   },
   {
    "duration": 35,
    "start_time": "2024-11-05T22:21:21.851Z"
   },
   {
    "duration": 28,
    "start_time": "2024-11-05T22:21:21.888Z"
   },
   {
    "duration": 11,
    "start_time": "2024-11-05T22:21:21.918Z"
   },
   {
    "duration": 6,
    "start_time": "2024-11-05T22:21:21.930Z"
   },
   {
    "duration": 19,
    "start_time": "2024-11-05T22:21:21.938Z"
   },
   {
    "duration": 40,
    "start_time": "2024-11-05T22:21:21.959Z"
   },
   {
    "duration": 7,
    "start_time": "2024-11-05T22:21:22.002Z"
   },
   {
    "duration": 25,
    "start_time": "2024-11-05T22:21:22.010Z"
   },
   {
    "duration": 7,
    "start_time": "2024-11-05T22:21:22.036Z"
   },
   {
    "duration": 54,
    "start_time": "2024-11-05T22:21:22.044Z"
   },
   {
    "duration": 14,
    "start_time": "2024-11-05T22:21:22.100Z"
   },
   {
    "duration": 13,
    "start_time": "2024-11-05T22:21:22.116Z"
   },
   {
    "duration": 16,
    "start_time": "2024-11-05T22:21:22.131Z"
   },
   {
    "duration": 44,
    "start_time": "2024-11-05T22:21:22.148Z"
   },
   {
    "duration": 2,
    "start_time": "2024-11-05T22:21:22.193Z"
   },
   {
    "duration": 3,
    "start_time": "2024-11-05T22:21:22.197Z"
   },
   {
    "duration": 2,
    "start_time": "2024-11-05T22:21:22.202Z"
   },
   {
    "duration": 2,
    "start_time": "2024-11-05T22:21:22.206Z"
   },
   {
    "duration": 2,
    "start_time": "2024-11-05T22:21:22.210Z"
   },
   {
    "duration": 2,
    "start_time": "2024-11-05T22:21:22.214Z"
   },
   {
    "duration": 2,
    "start_time": "2024-11-05T22:21:22.218Z"
   },
   {
    "duration": 2,
    "start_time": "2024-11-05T22:21:22.222Z"
   },
   {
    "duration": 2,
    "start_time": "2024-11-05T22:21:22.226Z"
   },
   {
    "duration": 2,
    "start_time": "2024-11-05T22:21:22.230Z"
   },
   {
    "duration": 23,
    "start_time": "2024-11-05T23:06:59.661Z"
   },
   {
    "duration": 5,
    "start_time": "2024-11-05T23:07:46.769Z"
   },
   {
    "duration": 21,
    "start_time": "2024-11-05T23:08:04.875Z"
   },
   {
    "duration": 5,
    "start_time": "2024-11-05T23:14:26.131Z"
   },
   {
    "duration": 19,
    "start_time": "2024-11-05T23:15:25.560Z"
   },
   {
    "duration": 19,
    "start_time": "2024-11-05T23:19:04.545Z"
   },
   {
    "duration": 610,
    "start_time": "2024-11-06T22:04:51.988Z"
   },
   {
    "duration": 239,
    "start_time": "2024-11-06T22:04:52.600Z"
   },
   {
    "duration": 10,
    "start_time": "2024-11-06T22:04:52.841Z"
   },
   {
    "duration": 10,
    "start_time": "2024-11-06T22:04:52.854Z"
   },
   {
    "duration": 9,
    "start_time": "2024-11-06T22:04:52.866Z"
   },
   {
    "duration": 8,
    "start_time": "2024-11-06T22:04:52.877Z"
   },
   {
    "duration": 15,
    "start_time": "2024-11-06T22:04:52.909Z"
   },
   {
    "duration": 6,
    "start_time": "2024-11-06T22:04:52.926Z"
   },
   {
    "duration": 31,
    "start_time": "2024-11-06T22:04:52.934Z"
   },
   {
    "duration": 15,
    "start_time": "2024-11-06T22:04:52.969Z"
   },
   {
    "duration": 9,
    "start_time": "2024-11-06T22:04:53.008Z"
   },
   {
    "duration": 27,
    "start_time": "2024-11-06T22:04:53.019Z"
   },
   {
    "duration": 13,
    "start_time": "2024-11-06T22:04:53.048Z"
   },
   {
    "duration": 8,
    "start_time": "2024-11-06T22:04:53.063Z"
   },
   {
    "duration": 49,
    "start_time": "2024-11-06T22:04:53.072Z"
   },
   {
    "duration": 7,
    "start_time": "2024-11-06T22:04:53.123Z"
   },
   {
    "duration": 23,
    "start_time": "2024-11-06T22:04:53.132Z"
   },
   {
    "duration": 19,
    "start_time": "2024-11-06T22:04:53.157Z"
   },
   {
    "duration": 46,
    "start_time": "2024-11-06T22:04:53.178Z"
   },
   {
    "duration": 18,
    "start_time": "2024-11-06T22:04:53.227Z"
   },
   {
    "duration": 259,
    "start_time": "2024-11-06T22:52:52.170Z"
   },
   {
    "duration": 20,
    "start_time": "2024-11-06T22:53:25.845Z"
   },
   {
    "duration": 22,
    "start_time": "2024-11-06T22:53:34.928Z"
   },
   {
    "duration": 20,
    "start_time": "2024-11-06T22:55:46.418Z"
   },
   {
    "duration": 119,
    "start_time": "2024-11-06T22:57:13.135Z"
   },
   {
    "duration": 23,
    "start_time": "2024-11-06T22:59:14.343Z"
   },
   {
    "duration": 20,
    "start_time": "2024-11-06T22:59:19.291Z"
   },
   {
    "duration": 3,
    "start_time": "2024-11-06T22:59:46.841Z"
   },
   {
    "duration": 159,
    "start_time": "2024-11-06T22:59:46.846Z"
   },
   {
    "duration": 8,
    "start_time": "2024-11-06T22:59:47.008Z"
   },
   {
    "duration": 7,
    "start_time": "2024-11-06T22:59:47.018Z"
   },
   {
    "duration": 8,
    "start_time": "2024-11-06T22:59:47.028Z"
   },
   {
    "duration": 7,
    "start_time": "2024-11-06T22:59:47.038Z"
   },
   {
    "duration": 15,
    "start_time": "2024-11-06T22:59:47.047Z"
   },
   {
    "duration": 6,
    "start_time": "2024-11-06T22:59:47.064Z"
   },
   {
    "duration": 30,
    "start_time": "2024-11-06T22:59:47.108Z"
   },
   {
    "duration": 13,
    "start_time": "2024-11-06T22:59:47.140Z"
   },
   {
    "duration": 6,
    "start_time": "2024-11-06T22:59:47.155Z"
   },
   {
    "duration": 52,
    "start_time": "2024-11-06T22:59:47.163Z"
   },
   {
    "duration": 20,
    "start_time": "2024-11-06T22:59:47.217Z"
   },
   {
    "duration": 8,
    "start_time": "2024-11-06T22:59:47.239Z"
   },
   {
    "duration": 33,
    "start_time": "2024-11-06T22:59:47.250Z"
   },
   {
    "duration": 20,
    "start_time": "2024-11-06T22:59:47.291Z"
   },
   {
    "duration": 26,
    "start_time": "2024-11-06T22:59:47.314Z"
   },
   {
    "duration": 16,
    "start_time": "2024-11-06T22:59:47.342Z"
   },
   {
    "duration": 18,
    "start_time": "2024-11-06T22:59:47.360Z"
   },
   {
    "duration": 19,
    "start_time": "2024-11-06T22:59:47.408Z"
   },
   {
    "duration": 23,
    "start_time": "2024-11-06T22:59:56.189Z"
   },
   {
    "duration": 21,
    "start_time": "2024-11-06T23:00:07.140Z"
   },
   {
    "duration": 8,
    "start_time": "2024-11-06T23:03:24.135Z"
   },
   {
    "duration": 26,
    "start_time": "2024-11-06T23:03:38.637Z"
   },
   {
    "duration": 413,
    "start_time": "2024-11-06T23:05:23.923Z"
   },
   {
    "duration": 18,
    "start_time": "2024-11-06T23:06:03.670Z"
   },
   {
    "duration": 21,
    "start_time": "2024-11-06T23:08:32.582Z"
   },
   {
    "duration": 37,
    "start_time": "2024-11-06T23:09:12.973Z"
   },
   {
    "duration": 36,
    "start_time": "2024-11-06T23:09:25.917Z"
   },
   {
    "duration": 9,
    "start_time": "2024-11-06T23:09:52.903Z"
   },
   {
    "duration": 21,
    "start_time": "2024-11-06T23:10:04.517Z"
   },
   {
    "duration": 6,
    "start_time": "2024-11-06T23:11:32.400Z"
   },
   {
    "duration": 25,
    "start_time": "2024-11-06T23:11:36.995Z"
   },
   {
    "duration": 3,
    "start_time": "2024-11-06T23:15:51.525Z"
   },
   {
    "duration": 154,
    "start_time": "2024-11-06T23:15:51.530Z"
   },
   {
    "duration": 9,
    "start_time": "2024-11-06T23:15:51.686Z"
   },
   {
    "duration": 7,
    "start_time": "2024-11-06T23:15:51.696Z"
   },
   {
    "duration": 8,
    "start_time": "2024-11-06T23:15:51.708Z"
   },
   {
    "duration": 8,
    "start_time": "2024-11-06T23:15:51.718Z"
   },
   {
    "duration": 16,
    "start_time": "2024-11-06T23:15:51.727Z"
   },
   {
    "duration": 7,
    "start_time": "2024-11-06T23:15:51.744Z"
   },
   {
    "duration": 61,
    "start_time": "2024-11-06T23:15:51.752Z"
   },
   {
    "duration": 12,
    "start_time": "2024-11-06T23:15:51.815Z"
   },
   {
    "duration": 7,
    "start_time": "2024-11-06T23:15:51.831Z"
   },
   {
    "duration": 20,
    "start_time": "2024-11-06T23:15:51.840Z"
   },
   {
    "duration": 14,
    "start_time": "2024-11-06T23:15:51.862Z"
   },
   {
    "duration": 36,
    "start_time": "2024-11-06T23:15:51.877Z"
   },
   {
    "duration": 24,
    "start_time": "2024-11-06T23:15:51.915Z"
   },
   {
    "duration": 8,
    "start_time": "2024-11-06T23:15:51.941Z"
   },
   {
    "duration": 22,
    "start_time": "2024-11-06T23:15:51.951Z"
   },
   {
    "duration": 44,
    "start_time": "2024-11-06T23:15:51.975Z"
   },
   {
    "duration": 15,
    "start_time": "2024-11-06T23:15:52.021Z"
   },
   {
    "duration": 17,
    "start_time": "2024-11-06T23:15:52.038Z"
   },
   {
    "duration": 20,
    "start_time": "2024-11-06T23:15:52.056Z"
   },
   {
    "duration": 33,
    "start_time": "2024-11-06T23:15:52.078Z"
   },
   {
    "duration": 622,
    "start_time": "2024-11-06T23:16:30.979Z"
   },
   {
    "duration": 156,
    "start_time": "2024-11-06T23:16:31.603Z"
   },
   {
    "duration": 11,
    "start_time": "2024-11-06T23:16:31.761Z"
   },
   {
    "duration": 11,
    "start_time": "2024-11-06T23:16:31.775Z"
   },
   {
    "duration": 22,
    "start_time": "2024-11-06T23:16:31.788Z"
   },
   {
    "duration": 9,
    "start_time": "2024-11-06T23:16:31.814Z"
   },
   {
    "duration": 17,
    "start_time": "2024-11-06T23:16:31.826Z"
   },
   {
    "duration": 7,
    "start_time": "2024-11-06T23:16:31.845Z"
   },
   {
    "duration": 56,
    "start_time": "2024-11-06T23:16:31.854Z"
   },
   {
    "duration": 13,
    "start_time": "2024-11-06T23:16:31.913Z"
   },
   {
    "duration": 5,
    "start_time": "2024-11-06T23:16:31.929Z"
   },
   {
    "duration": 20,
    "start_time": "2024-11-06T23:16:31.936Z"
   },
   {
    "duration": 18,
    "start_time": "2024-11-06T23:16:31.958Z"
   },
   {
    "duration": 38,
    "start_time": "2024-11-06T23:16:31.977Z"
   },
   {
    "duration": 39,
    "start_time": "2024-11-06T23:16:32.017Z"
   },
   {
    "duration": 10,
    "start_time": "2024-11-06T23:16:32.058Z"
   },
   {
    "duration": 58,
    "start_time": "2024-11-06T23:16:32.070Z"
   },
   {
    "duration": 22,
    "start_time": "2024-11-06T23:16:32.130Z"
   },
   {
    "duration": 16,
    "start_time": "2024-11-06T23:16:32.154Z"
   },
   {
    "duration": 40,
    "start_time": "2024-11-06T23:16:32.172Z"
   },
   {
    "duration": 29,
    "start_time": "2024-11-06T23:16:32.215Z"
   },
   {
    "duration": 8,
    "start_time": "2024-11-06T23:16:40.805Z"
   },
   {
    "duration": 16,
    "start_time": "2024-11-06T23:16:44.142Z"
   },
   {
    "duration": 13,
    "start_time": "2024-11-06T23:17:14.824Z"
   },
   {
    "duration": 13,
    "start_time": "2024-11-06T23:17:30.263Z"
   },
   {
    "duration": 17,
    "start_time": "2024-11-06T23:17:31.694Z"
   },
   {
    "duration": 650,
    "start_time": "2024-11-06T23:21:57.127Z"
   },
   {
    "duration": 161,
    "start_time": "2024-11-06T23:21:57.779Z"
   },
   {
    "duration": 11,
    "start_time": "2024-11-06T23:21:57.942Z"
   },
   {
    "duration": 12,
    "start_time": "2024-11-06T23:21:57.954Z"
   },
   {
    "duration": 8,
    "start_time": "2024-11-06T23:21:57.969Z"
   },
   {
    "duration": 8,
    "start_time": "2024-11-06T23:21:57.978Z"
   },
   {
    "duration": 33,
    "start_time": "2024-11-06T23:21:57.988Z"
   },
   {
    "duration": 6,
    "start_time": "2024-11-06T23:21:58.023Z"
   },
   {
    "duration": 29,
    "start_time": "2024-11-06T23:21:58.030Z"
   },
   {
    "duration": 12,
    "start_time": "2024-11-06T23:21:58.061Z"
   },
   {
    "duration": 35,
    "start_time": "2024-11-06T23:21:58.075Z"
   },
   {
    "duration": 20,
    "start_time": "2024-11-06T23:21:58.112Z"
   },
   {
    "duration": 13,
    "start_time": "2024-11-06T23:21:58.134Z"
   },
   {
    "duration": 6,
    "start_time": "2024-11-06T23:21:58.151Z"
   },
   {
    "duration": 55,
    "start_time": "2024-11-06T23:21:58.159Z"
   },
   {
    "duration": 7,
    "start_time": "2024-11-06T23:21:58.216Z"
   },
   {
    "duration": 24,
    "start_time": "2024-11-06T23:21:58.224Z"
   },
   {
    "duration": 16,
    "start_time": "2024-11-06T23:21:58.250Z"
   },
   {
    "duration": 41,
    "start_time": "2024-11-06T23:21:58.268Z"
   },
   {
    "duration": 18,
    "start_time": "2024-11-06T23:21:58.311Z"
   },
   {
    "duration": 21,
    "start_time": "2024-11-06T23:21:58.330Z"
   },
   {
    "duration": 11,
    "start_time": "2024-11-06T23:21:58.352Z"
   },
   {
    "duration": 16,
    "start_time": "2024-11-06T23:21:58.366Z"
   },
   {
    "duration": 7,
    "start_time": "2024-11-06T23:21:58.410Z"
   },
   {
    "duration": 6,
    "start_time": "2024-11-06T23:21:58.419Z"
   },
   {
    "duration": 6,
    "start_time": "2024-11-06T23:22:05.742Z"
   },
   {
    "duration": 5,
    "start_time": "2024-11-06T23:32:23.387Z"
   },
   {
    "duration": 9,
    "start_time": "2024-11-06T23:32:38.109Z"
   },
   {
    "duration": 1066,
    "start_time": "2024-11-06T23:34:50.924Z"
   },
   {
    "duration": 65,
    "start_time": "2024-11-06T23:35:51.308Z"
   },
   {
    "duration": 9,
    "start_time": "2024-11-06T23:36:32.739Z"
   },
   {
    "duration": 7,
    "start_time": "2024-11-06T23:38:22.307Z"
   },
   {
    "duration": 10,
    "start_time": "2024-11-06T23:38:38.680Z"
   },
   {
    "duration": 5,
    "start_time": "2024-11-06T23:40:24.098Z"
   },
   {
    "duration": 598,
    "start_time": "2024-11-06T23:42:07.093Z"
   },
   {
    "duration": 165,
    "start_time": "2024-11-06T23:42:07.693Z"
   },
   {
    "duration": 10,
    "start_time": "2024-11-06T23:42:07.860Z"
   },
   {
    "duration": 13,
    "start_time": "2024-11-06T23:42:07.871Z"
   },
   {
    "duration": 8,
    "start_time": "2024-11-06T23:42:07.887Z"
   },
   {
    "duration": 21,
    "start_time": "2024-11-06T23:42:07.897Z"
   },
   {
    "duration": 16,
    "start_time": "2024-11-06T23:42:07.919Z"
   },
   {
    "duration": 7,
    "start_time": "2024-11-06T23:42:07.936Z"
   },
   {
    "duration": 32,
    "start_time": "2024-11-06T23:42:07.945Z"
   },
   {
    "duration": 37,
    "start_time": "2024-11-06T23:42:07.979Z"
   },
   {
    "duration": 6,
    "start_time": "2024-11-06T23:42:08.018Z"
   },
   {
    "duration": 20,
    "start_time": "2024-11-06T23:42:08.026Z"
   },
   {
    "duration": 13,
    "start_time": "2024-11-06T23:42:08.048Z"
   },
   {
    "duration": 6,
    "start_time": "2024-11-06T23:42:08.064Z"
   },
   {
    "duration": 59,
    "start_time": "2024-11-06T23:42:08.072Z"
   },
   {
    "duration": 7,
    "start_time": "2024-11-06T23:42:08.132Z"
   },
   {
    "duration": 22,
    "start_time": "2024-11-06T23:42:08.141Z"
   },
   {
    "duration": 16,
    "start_time": "2024-11-06T23:42:08.165Z"
   },
   {
    "duration": 16,
    "start_time": "2024-11-06T23:42:08.209Z"
   },
   {
    "duration": 18,
    "start_time": "2024-11-06T23:42:08.226Z"
   },
   {
    "duration": 20,
    "start_time": "2024-11-06T23:42:08.246Z"
   },
   {
    "duration": 8,
    "start_time": "2024-11-06T23:42:08.267Z"
   },
   {
    "duration": 42,
    "start_time": "2024-11-06T23:42:08.277Z"
   },
   {
    "duration": 6,
    "start_time": "2024-11-06T23:42:08.321Z"
   },
   {
    "duration": 6,
    "start_time": "2024-11-06T23:42:08.328Z"
   },
   {
    "duration": 6,
    "start_time": "2024-11-06T23:42:08.335Z"
   },
   {
    "duration": 10,
    "start_time": "2024-11-06T23:42:08.342Z"
   },
   {
    "duration": 4,
    "start_time": "2024-11-06T23:42:08.354Z"
   },
   {
    "duration": 8,
    "start_time": "2024-11-06T23:42:08.360Z"
   },
   {
    "duration": 4,
    "start_time": "2024-11-06T23:45:02.747Z"
   },
   {
    "duration": 10,
    "start_time": "2024-11-06T23:45:11.033Z"
   },
   {
    "duration": 654,
    "start_time": "2024-11-06T23:46:11.918Z"
   },
   {
    "duration": 161,
    "start_time": "2024-11-06T23:46:12.574Z"
   },
   {
    "duration": 10,
    "start_time": "2024-11-06T23:46:12.737Z"
   },
   {
    "duration": 11,
    "start_time": "2024-11-06T23:46:12.750Z"
   },
   {
    "duration": 9,
    "start_time": "2024-11-06T23:46:12.763Z"
   },
   {
    "duration": 7,
    "start_time": "2024-11-06T23:46:12.774Z"
   },
   {
    "duration": 35,
    "start_time": "2024-11-06T23:46:12.784Z"
   },
   {
    "duration": 6,
    "start_time": "2024-11-06T23:46:12.821Z"
   },
   {
    "duration": 29,
    "start_time": "2024-11-06T23:46:12.829Z"
   },
   {
    "duration": 11,
    "start_time": "2024-11-06T23:46:12.861Z"
   },
   {
    "duration": 6,
    "start_time": "2024-11-06T23:46:12.874Z"
   },
   {
    "duration": 21,
    "start_time": "2024-11-06T23:46:12.910Z"
   },
   {
    "duration": 13,
    "start_time": "2024-11-06T23:46:12.933Z"
   },
   {
    "duration": 7,
    "start_time": "2024-11-06T23:46:12.947Z"
   },
   {
    "duration": 53,
    "start_time": "2024-11-06T23:46:12.956Z"
   },
   {
    "duration": 9,
    "start_time": "2024-11-06T23:46:13.010Z"
   },
   {
    "duration": 22,
    "start_time": "2024-11-06T23:46:13.021Z"
   },
   {
    "duration": 16,
    "start_time": "2024-11-06T23:46:13.044Z"
   },
   {
    "duration": 15,
    "start_time": "2024-11-06T23:46:13.062Z"
   },
   {
    "duration": 49,
    "start_time": "2024-11-06T23:46:13.078Z"
   },
   {
    "duration": 25,
    "start_time": "2024-11-06T23:46:13.129Z"
   },
   {
    "duration": 13,
    "start_time": "2024-11-06T23:46:13.155Z"
   },
   {
    "duration": 8,
    "start_time": "2024-11-06T23:46:13.170Z"
   },
   {
    "duration": 37,
    "start_time": "2024-11-06T23:46:13.180Z"
   },
   {
    "duration": 6,
    "start_time": "2024-11-06T23:46:13.219Z"
   },
   {
    "duration": 4,
    "start_time": "2024-11-06T23:46:13.227Z"
   },
   {
    "duration": 5,
    "start_time": "2024-11-06T23:46:13.233Z"
   },
   {
    "duration": 7,
    "start_time": "2024-11-06T23:46:13.242Z"
   },
   {
    "duration": 11,
    "start_time": "2024-11-06T23:47:18.315Z"
   },
   {
    "duration": 578,
    "start_time": "2024-11-07T23:25:06.442Z"
   },
   {
    "duration": 211,
    "start_time": "2024-11-07T23:25:07.023Z"
   },
   {
    "duration": 11,
    "start_time": "2024-11-07T23:25:07.236Z"
   },
   {
    "duration": 12,
    "start_time": "2024-11-07T23:25:07.249Z"
   },
   {
    "duration": 9,
    "start_time": "2024-11-07T23:25:07.263Z"
   },
   {
    "duration": 8,
    "start_time": "2024-11-07T23:25:07.273Z"
   },
   {
    "duration": 15,
    "start_time": "2024-11-07T23:25:07.283Z"
   },
   {
    "duration": 7,
    "start_time": "2024-11-07T23:25:07.299Z"
   },
   {
    "duration": 34,
    "start_time": "2024-11-07T23:25:07.343Z"
   },
   {
    "duration": 13,
    "start_time": "2024-11-07T23:25:07.379Z"
   },
   {
    "duration": 9,
    "start_time": "2024-11-07T23:25:07.394Z"
   },
   {
    "duration": 45,
    "start_time": "2024-11-07T23:25:07.404Z"
   },
   {
    "duration": 15,
    "start_time": "2024-11-07T23:25:07.451Z"
   },
   {
    "duration": 6,
    "start_time": "2024-11-07T23:25:07.469Z"
   },
   {
    "duration": 25,
    "start_time": "2024-11-07T23:25:07.476Z"
   },
   {
    "duration": 6,
    "start_time": "2024-11-07T23:25:07.503Z"
   },
   {
    "duration": 51,
    "start_time": "2024-11-07T23:25:07.511Z"
   },
   {
    "duration": 15,
    "start_time": "2024-11-07T23:25:07.563Z"
   },
   {
    "duration": 14,
    "start_time": "2024-11-07T23:25:07.579Z"
   },
   {
    "duration": 16,
    "start_time": "2024-11-07T23:25:07.595Z"
   },
   {
    "duration": 48,
    "start_time": "2024-11-07T23:25:07.613Z"
   },
   {
    "duration": 9,
    "start_time": "2024-11-07T23:25:07.663Z"
   },
   {
    "duration": 9,
    "start_time": "2024-11-07T23:25:07.673Z"
   },
   {
    "duration": 2,
    "start_time": "2024-11-07T23:25:07.683Z"
   },
   {
    "duration": 3,
    "start_time": "2024-11-07T23:25:07.687Z"
   },
   {
    "duration": 14,
    "start_time": "2024-11-07T23:25:07.692Z"
   },
   {
    "duration": 13,
    "start_time": "2024-11-07T23:26:16.715Z"
   },
   {
    "duration": 3,
    "start_time": "2024-11-07T23:27:56.372Z"
   },
   {
    "duration": 3,
    "start_time": "2024-11-07T23:28:53.128Z"
   },
   {
    "duration": 3,
    "start_time": "2024-11-07T23:29:09.671Z"
   },
   {
    "duration": 244,
    "start_time": "2024-11-07T23:30:56.026Z"
   },
   {
    "duration": 3,
    "start_time": "2024-11-07T23:31:25.509Z"
   },
   {
    "duration": 12,
    "start_time": "2024-11-07T23:32:12.147Z"
   },
   {
    "duration": 9,
    "start_time": "2024-11-07T23:35:21.155Z"
   },
   {
    "duration": 9,
    "start_time": "2024-11-07T23:36:09.100Z"
   },
   {
    "duration": 14,
    "start_time": "2024-11-07T23:39:09.511Z"
   },
   {
    "duration": 10,
    "start_time": "2024-11-07T23:41:02.614Z"
   },
   {
    "duration": 5,
    "start_time": "2024-11-07T23:41:05.057Z"
   },
   {
    "duration": 5,
    "start_time": "2024-11-07T23:41:06.653Z"
   },
   {
    "duration": 13,
    "start_time": "2024-11-07T23:41:09.176Z"
   },
   {
    "duration": 637,
    "start_time": "2024-11-07T23:43:15.863Z"
   },
   {
    "duration": 167,
    "start_time": "2024-11-07T23:43:16.502Z"
   },
   {
    "duration": 10,
    "start_time": "2024-11-07T23:43:16.671Z"
   },
   {
    "duration": 11,
    "start_time": "2024-11-07T23:43:16.683Z"
   },
   {
    "duration": 7,
    "start_time": "2024-11-07T23:43:16.695Z"
   },
   {
    "duration": 8,
    "start_time": "2024-11-07T23:43:16.704Z"
   },
   {
    "duration": 31,
    "start_time": "2024-11-07T23:43:16.713Z"
   },
   {
    "duration": 7,
    "start_time": "2024-11-07T23:43:16.746Z"
   },
   {
    "duration": 29,
    "start_time": "2024-11-07T23:43:16.755Z"
   },
   {
    "duration": 12,
    "start_time": "2024-11-07T23:43:16.788Z"
   },
   {
    "duration": 7,
    "start_time": "2024-11-07T23:43:16.801Z"
   },
   {
    "duration": 24,
    "start_time": "2024-11-07T23:43:16.842Z"
   },
   {
    "duration": 14,
    "start_time": "2024-11-07T23:43:16.868Z"
   },
   {
    "duration": 6,
    "start_time": "2024-11-07T23:43:16.883Z"
   },
   {
    "duration": 24,
    "start_time": "2024-11-07T23:43:16.891Z"
   },
   {
    "duration": 8,
    "start_time": "2024-11-07T23:43:16.943Z"
   },
   {
    "duration": 22,
    "start_time": "2024-11-07T23:43:16.953Z"
   },
   {
    "duration": 16,
    "start_time": "2024-11-07T23:43:16.976Z"
   },
   {
    "duration": 14,
    "start_time": "2024-11-07T23:43:16.993Z"
   },
   {
    "duration": 45,
    "start_time": "2024-11-07T23:43:17.008Z"
   },
   {
    "duration": 20,
    "start_time": "2024-11-07T23:43:17.055Z"
   },
   {
    "duration": 8,
    "start_time": "2024-11-07T23:43:17.077Z"
   },
   {
    "duration": 8,
    "start_time": "2024-11-07T23:43:17.087Z"
   },
   {
    "duration": 2,
    "start_time": "2024-11-07T23:43:17.096Z"
   },
   {
    "duration": 4,
    "start_time": "2024-11-07T23:43:17.100Z"
   },
   {
    "duration": 47,
    "start_time": "2024-11-07T23:43:17.106Z"
   },
   {
    "duration": 10,
    "start_time": "2024-11-07T23:43:17.155Z"
   },
   {
    "duration": 5,
    "start_time": "2024-11-07T23:43:17.168Z"
   },
   {
    "duration": 4,
    "start_time": "2024-11-07T23:43:17.175Z"
   },
   {
    "duration": 4,
    "start_time": "2024-11-07T23:43:17.181Z"
   },
   {
    "duration": 14,
    "start_time": "2024-11-07T23:43:20.700Z"
   },
   {
    "duration": 14,
    "start_time": "2024-11-07T23:43:54.488Z"
   },
   {
    "duration": 10,
    "start_time": "2024-11-07T23:50:34.057Z"
   },
   {
    "duration": 11,
    "start_time": "2024-11-07T23:50:44.643Z"
   },
   {
    "duration": 12,
    "start_time": "2024-11-08T00:04:18.114Z"
   },
   {
    "duration": 13,
    "start_time": "2024-11-08T00:07:15.711Z"
   },
   {
    "duration": 311,
    "start_time": "2024-11-08T00:10:22.757Z"
   },
   {
    "duration": 16,
    "start_time": "2024-11-08T00:11:30.378Z"
   },
   {
    "duration": 19,
    "start_time": "2024-11-08T00:13:17.734Z"
   },
   {
    "duration": 1970,
    "start_time": "2024-11-08T00:13:55.899Z"
   },
   {
    "duration": 375,
    "start_time": "2024-11-08T00:14:04.809Z"
   },
   {
    "duration": 274,
    "start_time": "2024-11-08T00:17:20.393Z"
   },
   {
    "duration": 2522,
    "start_time": "2024-11-08T22:44:23.930Z"
   },
   {
    "duration": 226,
    "start_time": "2024-11-08T22:44:26.454Z"
   },
   {
    "duration": 11,
    "start_time": "2024-11-08T22:44:26.681Z"
   },
   {
    "duration": 10,
    "start_time": "2024-11-08T22:44:26.693Z"
   },
   {
    "duration": 8,
    "start_time": "2024-11-08T22:44:26.705Z"
   },
   {
    "duration": 9,
    "start_time": "2024-11-08T22:44:26.715Z"
   },
   {
    "duration": 15,
    "start_time": "2024-11-08T22:44:26.725Z"
   },
   {
    "duration": 36,
    "start_time": "2024-11-08T22:44:26.741Z"
   },
   {
    "duration": 31,
    "start_time": "2024-11-08T22:44:26.779Z"
   },
   {
    "duration": 11,
    "start_time": "2024-11-08T22:44:26.812Z"
   },
   {
    "duration": 7,
    "start_time": "2024-11-08T22:44:26.824Z"
   },
   {
    "duration": 47,
    "start_time": "2024-11-08T22:44:26.832Z"
   },
   {
    "duration": 15,
    "start_time": "2024-11-08T22:44:26.881Z"
   },
   {
    "duration": 6,
    "start_time": "2024-11-08T22:44:26.899Z"
   },
   {
    "duration": 23,
    "start_time": "2024-11-08T22:44:26.907Z"
   },
   {
    "duration": 40,
    "start_time": "2024-11-08T22:44:26.932Z"
   },
   {
    "duration": 23,
    "start_time": "2024-11-08T22:44:26.974Z"
   },
   {
    "duration": 15,
    "start_time": "2024-11-08T22:44:26.998Z"
   },
   {
    "duration": 14,
    "start_time": "2024-11-08T22:44:27.015Z"
   },
   {
    "duration": 44,
    "start_time": "2024-11-08T22:44:27.031Z"
   },
   {
    "duration": 22,
    "start_time": "2024-11-08T22:44:27.076Z"
   },
   {
    "duration": 8,
    "start_time": "2024-11-08T22:44:27.101Z"
   },
   {
    "duration": 4,
    "start_time": "2024-11-08T22:44:27.112Z"
   },
   {
    "duration": 12,
    "start_time": "2024-11-08T22:44:27.118Z"
   },
   {
    "duration": 44,
    "start_time": "2024-11-08T22:44:27.132Z"
   },
   {
    "duration": 5,
    "start_time": "2024-11-08T22:44:27.178Z"
   },
   {
    "duration": 6,
    "start_time": "2024-11-08T22:44:27.185Z"
   },
   {
    "duration": 5,
    "start_time": "2024-11-08T22:44:27.193Z"
   },
   {
    "duration": 15,
    "start_time": "2024-11-08T22:44:27.199Z"
   },
   {
    "duration": 403,
    "start_time": "2024-11-08T22:44:27.216Z"
   },
   {
    "duration": 280,
    "start_time": "2024-11-08T22:44:27.622Z"
   },
   {
    "duration": 2775,
    "start_time": "2024-11-11T22:10:47.934Z"
   },
   {
    "duration": 222,
    "start_time": "2024-11-11T22:10:50.711Z"
   },
   {
    "duration": 27,
    "start_time": "2024-11-11T22:10:50.935Z"
   },
   {
    "duration": 11,
    "start_time": "2024-11-11T22:10:50.963Z"
   },
   {
    "duration": 8,
    "start_time": "2024-11-11T22:10:50.982Z"
   },
   {
    "duration": 8,
    "start_time": "2024-11-11T22:10:50.992Z"
   },
   {
    "duration": 15,
    "start_time": "2024-11-11T22:10:51.001Z"
   },
   {
    "duration": 6,
    "start_time": "2024-11-11T22:10:51.018Z"
   },
   {
    "duration": 42,
    "start_time": "2024-11-11T22:10:51.026Z"
   },
   {
    "duration": 16,
    "start_time": "2024-11-11T22:10:51.069Z"
   },
   {
    "duration": 5,
    "start_time": "2024-11-11T22:10:51.087Z"
   },
   {
    "duration": 19,
    "start_time": "2024-11-11T22:10:51.094Z"
   },
   {
    "duration": 47,
    "start_time": "2024-11-11T22:10:51.115Z"
   },
   {
    "duration": 8,
    "start_time": "2024-11-11T22:10:51.165Z"
   },
   {
    "duration": 34,
    "start_time": "2024-11-11T22:10:51.175Z"
   },
   {
    "duration": 7,
    "start_time": "2024-11-11T22:10:51.211Z"
   },
   {
    "duration": 34,
    "start_time": "2024-11-11T22:10:51.220Z"
   },
   {
    "duration": 17,
    "start_time": "2024-11-11T22:10:51.263Z"
   },
   {
    "duration": 16,
    "start_time": "2024-11-11T22:10:51.281Z"
   },
   {
    "duration": 16,
    "start_time": "2024-11-11T22:10:51.299Z"
   },
   {
    "duration": 37,
    "start_time": "2024-11-11T22:10:51.317Z"
   },
   {
    "duration": 10,
    "start_time": "2024-11-11T22:10:51.358Z"
   },
   {
    "duration": 4,
    "start_time": "2024-11-11T22:10:51.372Z"
   },
   {
    "duration": 13,
    "start_time": "2024-11-11T22:10:51.379Z"
   },
   {
    "duration": 11,
    "start_time": "2024-11-11T22:10:51.394Z"
   },
   {
    "duration": 5,
    "start_time": "2024-11-11T22:10:51.406Z"
   },
   {
    "duration": 5,
    "start_time": "2024-11-11T22:10:51.412Z"
   },
   {
    "duration": 29,
    "start_time": "2024-11-11T22:10:51.419Z"
   },
   {
    "duration": 13,
    "start_time": "2024-11-11T22:10:51.449Z"
   },
   {
    "duration": 394,
    "start_time": "2024-11-11T22:10:51.464Z"
   },
   {
    "duration": 295,
    "start_time": "2024-11-11T22:10:51.863Z"
   },
   {
    "duration": 9,
    "start_time": "2024-11-11T22:11:06.494Z"
   },
   {
    "duration": 8,
    "start_time": "2024-11-11T22:11:46.098Z"
   },
   {
    "duration": 137,
    "start_time": "2024-11-11T22:12:59.659Z"
   },
   {
    "duration": 132,
    "start_time": "2024-11-11T22:13:14.689Z"
   },
   {
    "duration": 186,
    "start_time": "2024-11-11T22:14:10.338Z"
   },
   {
    "duration": 129,
    "start_time": "2024-11-11T22:15:33.247Z"
   },
   {
    "duration": 634,
    "start_time": "2024-11-11T22:15:49.476Z"
   },
   {
    "duration": 137,
    "start_time": "2024-11-11T22:15:58.843Z"
   },
   {
    "duration": 103,
    "start_time": "2024-11-11T22:16:18.763Z"
   },
   {
    "duration": 123,
    "start_time": "2024-11-11T22:16:36.825Z"
   },
   {
    "duration": 2547,
    "start_time": "2024-11-12T21:53:25.264Z"
   },
   {
    "duration": 220,
    "start_time": "2024-11-12T21:59:13.445Z"
   },
   {
    "duration": 3,
    "start_time": "2024-11-12T21:59:28.659Z"
   },
   {
    "duration": 211,
    "start_time": "2024-11-12T21:59:28.664Z"
   },
   {
    "duration": 9,
    "start_time": "2024-11-12T21:59:28.877Z"
   },
   {
    "duration": 9,
    "start_time": "2024-11-12T21:59:28.889Z"
   },
   {
    "duration": 2,
    "start_time": "2024-11-12T21:59:40.197Z"
   },
   {
    "duration": 156,
    "start_time": "2024-11-12T21:59:40.201Z"
   },
   {
    "duration": 9,
    "start_time": "2024-11-12T21:59:40.359Z"
   },
   {
    "duration": 7,
    "start_time": "2024-11-12T21:59:40.370Z"
   },
   {
    "duration": 15,
    "start_time": "2024-11-12T21:59:53.191Z"
   },
   {
    "duration": 8,
    "start_time": "2024-11-12T22:01:53.367Z"
   },
   {
    "duration": 8,
    "start_time": "2024-11-12T22:01:56.745Z"
   },
   {
    "duration": 5,
    "start_time": "2024-11-12T22:03:41.481Z"
   },
   {
    "duration": 16,
    "start_time": "2024-11-12T22:03:52.022Z"
   },
   {
    "duration": 7,
    "start_time": "2024-11-12T22:03:54.520Z"
   },
   {
    "duration": 31,
    "start_time": "2024-11-12T22:03:59.083Z"
   },
   {
    "duration": 9,
    "start_time": "2024-11-12T22:06:09.665Z"
   },
   {
    "duration": 13,
    "start_time": "2024-11-12T22:07:26.870Z"
   },
   {
    "duration": 12,
    "start_time": "2024-11-12T22:07:29.268Z"
   },
   {
    "duration": 21,
    "start_time": "2024-11-12T22:07:36.318Z"
   },
   {
    "duration": 14,
    "start_time": "2024-11-12T22:07:42.627Z"
   },
   {
    "duration": 7,
    "start_time": "2024-11-12T22:07:46.876Z"
   },
   {
    "duration": 6,
    "start_time": "2024-11-12T22:12:01.029Z"
   },
   {
    "duration": 4,
    "start_time": "2024-11-12T22:13:27.671Z"
   },
   {
    "duration": 23,
    "start_time": "2024-11-12T22:13:37.952Z"
   },
   {
    "duration": 24,
    "start_time": "2024-11-12T22:14:01.059Z"
   },
   {
    "duration": 7,
    "start_time": "2024-11-12T22:14:07.659Z"
   },
   {
    "duration": 19,
    "start_time": "2024-11-12T22:14:36.815Z"
   },
   {
    "duration": 14,
    "start_time": "2024-11-12T22:16:03.227Z"
   },
   {
    "duration": 453,
    "start_time": "2024-11-12T22:16:33.489Z"
   },
   {
    "duration": 36,
    "start_time": "2024-11-12T22:17:11.921Z"
   },
   {
    "duration": 14,
    "start_time": "2024-11-12T22:17:28.085Z"
   },
   {
    "duration": 16,
    "start_time": "2024-11-12T22:17:34.434Z"
   },
   {
    "duration": 304,
    "start_time": "2024-11-12T22:17:49.570Z"
   },
   {
    "duration": 24,
    "start_time": "2024-11-12T22:19:19.191Z"
   },
   {
    "duration": 25,
    "start_time": "2024-11-12T22:19:23.430Z"
   },
   {
    "duration": 8,
    "start_time": "2024-11-12T22:19:27.136Z"
   },
   {
    "duration": 2,
    "start_time": "2024-11-12T22:19:36.319Z"
   },
   {
    "duration": 158,
    "start_time": "2024-11-12T22:19:36.326Z"
   },
   {
    "duration": 8,
    "start_time": "2024-11-12T22:19:36.486Z"
   },
   {
    "duration": 6,
    "start_time": "2024-11-12T22:19:36.496Z"
   },
   {
    "duration": 8,
    "start_time": "2024-11-12T22:19:36.505Z"
   },
   {
    "duration": 8,
    "start_time": "2024-11-12T22:19:36.515Z"
   },
   {
    "duration": 7,
    "start_time": "2024-11-12T22:19:36.525Z"
   },
   {
    "duration": 15,
    "start_time": "2024-11-12T22:19:36.534Z"
   },
   {
    "duration": 42,
    "start_time": "2024-11-12T22:19:36.550Z"
   },
   {
    "duration": 29,
    "start_time": "2024-11-12T22:19:36.594Z"
   },
   {
    "duration": 8,
    "start_time": "2024-11-12T22:19:36.626Z"
   },
   {
    "duration": 10,
    "start_time": "2024-11-12T22:19:36.636Z"
   },
   {
    "duration": 5,
    "start_time": "2024-11-12T22:19:36.648Z"
   },
   {
    "duration": 20,
    "start_time": "2024-11-12T22:19:36.687Z"
   },
   {
    "duration": 13,
    "start_time": "2024-11-12T22:19:36.709Z"
   },
   {
    "duration": 7,
    "start_time": "2024-11-12T22:19:36.723Z"
   },
   {
    "duration": 23,
    "start_time": "2024-11-12T22:19:36.732Z"
   },
   {
    "duration": 55,
    "start_time": "2024-11-12T22:19:36.757Z"
   },
   {
    "duration": 7,
    "start_time": "2024-11-12T22:19:36.813Z"
   },
   {
    "duration": 21,
    "start_time": "2024-11-12T22:19:36.822Z"
   },
   {
    "duration": 59,
    "start_time": "2024-11-12T22:19:36.845Z"
   },
   {
    "duration": 12,
    "start_time": "2024-11-12T22:19:36.906Z"
   },
   {
    "duration": 14,
    "start_time": "2024-11-12T22:19:36.919Z"
   },
   {
    "duration": 19,
    "start_time": "2024-11-12T22:19:39.614Z"
   },
   {
    "duration": 21,
    "start_time": "2024-11-12T22:20:04.037Z"
   },
   {
    "duration": 12,
    "start_time": "2024-11-12T22:20:17.772Z"
   },
   {
    "duration": 5,
    "start_time": "2024-11-12T22:20:24.707Z"
   },
   {
    "duration": 15,
    "start_time": "2024-11-12T22:20:28.981Z"
   },
   {
    "duration": 12,
    "start_time": "2024-11-12T22:20:34.950Z"
   },
   {
    "duration": 5,
    "start_time": "2024-11-12T22:21:02.635Z"
   },
   {
    "duration": 6,
    "start_time": "2024-11-12T22:21:04.438Z"
   },
   {
    "duration": 5,
    "start_time": "2024-11-12T22:21:06.367Z"
   },
   {
    "duration": 14,
    "start_time": "2024-11-12T22:21:20.534Z"
   },
   {
    "duration": 159,
    "start_time": "2024-11-12T22:23:12.738Z"
   },
   {
    "duration": 15,
    "start_time": "2024-11-12T22:24:33.881Z"
   },
   {
    "duration": 2,
    "start_time": "2024-11-12T22:24:49.054Z"
   },
   {
    "duration": 158,
    "start_time": "2024-11-12T22:24:49.059Z"
   },
   {
    "duration": 9,
    "start_time": "2024-11-12T22:24:49.219Z"
   },
   {
    "duration": 7,
    "start_time": "2024-11-12T22:24:49.230Z"
   },
   {
    "duration": 11,
    "start_time": "2024-11-12T22:24:49.239Z"
   },
   {
    "duration": 39,
    "start_time": "2024-11-12T22:24:49.251Z"
   },
   {
    "duration": 8,
    "start_time": "2024-11-12T22:24:49.291Z"
   },
   {
    "duration": 15,
    "start_time": "2024-11-12T22:24:49.301Z"
   },
   {
    "duration": 8,
    "start_time": "2024-11-12T22:24:49.318Z"
   },
   {
    "duration": 29,
    "start_time": "2024-11-12T22:24:49.327Z"
   },
   {
    "duration": 32,
    "start_time": "2024-11-12T22:24:49.360Z"
   },
   {
    "duration": 11,
    "start_time": "2024-11-12T22:24:49.395Z"
   },
   {
    "duration": 6,
    "start_time": "2024-11-12T22:24:49.407Z"
   },
   {
    "duration": 19,
    "start_time": "2024-11-12T22:24:49.415Z"
   },
   {
    "duration": 13,
    "start_time": "2024-11-12T22:24:49.436Z"
   },
   {
    "duration": 39,
    "start_time": "2024-11-12T22:24:49.450Z"
   },
   {
    "duration": 24,
    "start_time": "2024-11-12T22:24:49.490Z"
   },
   {
    "duration": 25,
    "start_time": "2024-11-12T22:24:49.516Z"
   },
   {
    "duration": 7,
    "start_time": "2024-11-12T22:24:49.544Z"
   },
   {
    "duration": 49,
    "start_time": "2024-11-12T22:24:49.553Z"
   },
   {
    "duration": 35,
    "start_time": "2024-11-12T22:24:49.603Z"
   },
   {
    "duration": 14,
    "start_time": "2024-11-12T22:24:49.640Z"
   },
   {
    "duration": 35,
    "start_time": "2024-11-12T22:24:49.656Z"
   },
   {
    "duration": 17,
    "start_time": "2024-11-12T22:24:49.693Z"
   },
   {
    "duration": 18,
    "start_time": "2024-11-12T22:24:49.712Z"
   },
   {
    "duration": 9,
    "start_time": "2024-11-12T22:24:49.732Z"
   },
   {
    "duration": 4,
    "start_time": "2024-11-12T22:24:49.742Z"
   },
   {
    "duration": 45,
    "start_time": "2024-11-12T22:24:49.747Z"
   },
   {
    "duration": 12,
    "start_time": "2024-11-12T22:24:49.796Z"
   },
   {
    "duration": 5,
    "start_time": "2024-11-12T22:24:49.809Z"
   },
   {
    "duration": 5,
    "start_time": "2024-11-12T22:24:49.815Z"
   },
   {
    "duration": 4,
    "start_time": "2024-11-12T22:24:49.822Z"
   },
   {
    "duration": 14,
    "start_time": "2024-11-12T22:24:55.030Z"
   },
   {
    "duration": 364,
    "start_time": "2024-11-12T22:25:56.676Z"
   },
   {
    "duration": 320,
    "start_time": "2024-11-12T22:26:06.080Z"
   },
   {
    "duration": 8,
    "start_time": "2024-11-12T22:26:12.486Z"
   },
   {
    "duration": 223,
    "start_time": "2024-11-12T22:26:15.272Z"
   },
   {
    "duration": 109,
    "start_time": "2024-11-12T22:26:19.724Z"
   },
   {
    "duration": 116,
    "start_time": "2024-11-12T22:26:23.815Z"
   },
   {
    "duration": 122,
    "start_time": "2024-11-12T22:26:37.771Z"
   },
   {
    "duration": 211,
    "start_time": "2024-11-12T22:49:27.103Z"
   },
   {
    "duration": 9,
    "start_time": "2024-11-12T22:50:39.418Z"
   },
   {
    "duration": 139,
    "start_time": "2024-11-12T22:52:25.039Z"
   },
   {
    "duration": 161,
    "start_time": "2024-11-12T22:52:34.620Z"
   },
   {
    "duration": 11,
    "start_time": "2024-11-12T22:54:28.705Z"
   },
   {
    "duration": 312,
    "start_time": "2024-11-12T22:55:48.809Z"
   },
   {
    "duration": 128,
    "start_time": "2024-11-12T22:56:07.146Z"
   },
   {
    "duration": 2706,
    "start_time": "2024-11-13T22:32:10.388Z"
   },
   {
    "duration": 220,
    "start_time": "2024-11-13T22:32:13.096Z"
   },
   {
    "duration": 13,
    "start_time": "2024-11-13T22:32:13.317Z"
   },
   {
    "duration": 11,
    "start_time": "2024-11-13T22:32:13.334Z"
   },
   {
    "duration": 13,
    "start_time": "2024-11-13T22:32:13.347Z"
   },
   {
    "duration": 10,
    "start_time": "2024-11-13T22:32:13.363Z"
   },
   {
    "duration": 7,
    "start_time": "2024-11-13T22:32:13.376Z"
   },
   {
    "duration": 42,
    "start_time": "2024-11-13T22:32:13.386Z"
   },
   {
    "duration": 7,
    "start_time": "2024-11-13T22:32:13.430Z"
   },
   {
    "duration": 46,
    "start_time": "2024-11-13T22:32:13.441Z"
   },
   {
    "duration": 8,
    "start_time": "2024-11-13T22:32:13.488Z"
   },
   {
    "duration": 39,
    "start_time": "2024-11-13T22:32:13.498Z"
   },
   {
    "duration": 6,
    "start_time": "2024-11-13T22:32:13.540Z"
   },
   {
    "duration": 20,
    "start_time": "2024-11-13T22:32:13.548Z"
   },
   {
    "duration": 16,
    "start_time": "2024-11-13T22:32:13.570Z"
   },
   {
    "duration": 7,
    "start_time": "2024-11-13T22:32:13.588Z"
   },
   {
    "duration": 27,
    "start_time": "2024-11-13T22:32:13.625Z"
   },
   {
    "duration": 26,
    "start_time": "2024-11-13T22:32:13.654Z"
   },
   {
    "duration": 8,
    "start_time": "2024-11-13T22:32:13.681Z"
   },
   {
    "duration": 47,
    "start_time": "2024-11-13T22:32:13.691Z"
   },
   {
    "duration": 56,
    "start_time": "2024-11-13T22:32:13.740Z"
   },
   {
    "duration": 37,
    "start_time": "2024-11-13T22:32:13.799Z"
   },
   {
    "duration": 20,
    "start_time": "2024-11-13T22:32:13.838Z"
   },
   {
    "duration": 26,
    "start_time": "2024-11-13T22:32:13.861Z"
   },
   {
    "duration": 38,
    "start_time": "2024-11-13T22:32:13.890Z"
   },
   {
    "duration": 9,
    "start_time": "2024-11-13T22:32:13.930Z"
   },
   {
    "duration": 3,
    "start_time": "2024-11-13T22:32:13.941Z"
   },
   {
    "duration": 13,
    "start_time": "2024-11-13T22:32:13.949Z"
   },
   {
    "duration": 12,
    "start_time": "2024-11-13T22:32:13.963Z"
   },
   {
    "duration": 6,
    "start_time": "2024-11-13T22:32:13.976Z"
   },
   {
    "duration": 40,
    "start_time": "2024-11-13T22:32:13.984Z"
   },
   {
    "duration": 6,
    "start_time": "2024-11-13T22:32:14.026Z"
   },
   {
    "duration": 14,
    "start_time": "2024-11-13T22:32:14.034Z"
   },
   {
    "duration": 437,
    "start_time": "2024-11-13T22:32:14.051Z"
   },
   {
    "duration": 358,
    "start_time": "2024-11-13T22:32:14.490Z"
   },
   {
    "duration": 10,
    "start_time": "2024-11-13T22:32:14.851Z"
   },
   {
    "duration": 146,
    "start_time": "2024-11-13T22:32:14.863Z"
   },
   {
    "duration": 114,
    "start_time": "2024-11-13T22:32:15.011Z"
   },
   {
    "duration": 8,
    "start_time": "2024-11-13T22:32:15.127Z"
   },
   {
    "duration": 194,
    "start_time": "2024-11-13T22:32:15.136Z"
   },
   {
    "duration": 125,
    "start_time": "2024-11-13T22:32:15.332Z"
   },
   {
    "duration": 8,
    "start_time": "2024-11-13T22:32:15.460Z"
   },
   {
    "duration": 151,
    "start_time": "2024-11-13T22:32:15.470Z"
   },
   {
    "duration": 360,
    "start_time": "2024-11-13T22:32:20.006Z"
   },
   {
    "duration": 110,
    "start_time": "2024-11-13T22:32:35.549Z"
   },
   {
    "duration": 105,
    "start_time": "2024-11-13T22:35:47.516Z"
   },
   {
    "duration": 104,
    "start_time": "2024-11-13T22:36:50.652Z"
   },
   {
    "duration": 8,
    "start_time": "2024-11-13T22:39:54.163Z"
   },
   {
    "duration": 9,
    "start_time": "2024-11-13T22:40:13.009Z"
   },
   {
    "duration": 127,
    "start_time": "2024-11-13T22:41:35.667Z"
   },
   {
    "duration": 7,
    "start_time": "2024-11-13T22:47:02.512Z"
   },
   {
    "duration": 13,
    "start_time": "2024-11-13T22:47:21.240Z"
   },
   {
    "duration": 9,
    "start_time": "2024-11-13T22:47:40.501Z"
   },
   {
    "duration": 14,
    "start_time": "2024-11-13T22:48:23.115Z"
   },
   {
    "duration": 13,
    "start_time": "2024-11-13T22:50:34.866Z"
   },
   {
    "duration": 7,
    "start_time": "2024-11-13T22:50:44.517Z"
   },
   {
    "duration": 6,
    "start_time": "2024-11-13T22:50:49.511Z"
   },
   {
    "duration": 6,
    "start_time": "2024-11-13T22:50:59.520Z"
   },
   {
    "duration": 401,
    "start_time": "2024-11-13T23:02:55.682Z"
   },
   {
    "duration": 142,
    "start_time": "2024-11-13T23:03:28.956Z"
   },
   {
    "duration": 101,
    "start_time": "2024-11-13T23:03:49.124Z"
   },
   {
    "duration": 7,
    "start_time": "2024-11-13T23:06:22.822Z"
   },
   {
    "duration": 23,
    "start_time": "2024-11-13T23:12:44.591Z"
   },
   {
    "duration": 16,
    "start_time": "2024-11-13T23:12:59.354Z"
   },
   {
    "duration": 16,
    "start_time": "2024-11-13T23:16:19.533Z"
   },
   {
    "duration": 19,
    "start_time": "2024-11-13T23:16:29.841Z"
   },
   {
    "duration": 409,
    "start_time": "2024-11-13T23:24:56.419Z"
   },
   {
    "duration": 8,
    "start_time": "2024-11-13T23:25:14.933Z"
   },
   {
    "duration": 15,
    "start_time": "2024-11-13T23:25:16.972Z"
   },
   {
    "duration": 43,
    "start_time": "2024-11-13T23:25:20.056Z"
   },
   {
    "duration": 6,
    "start_time": "2024-11-13T23:25:52.491Z"
   },
   {
    "duration": 18,
    "start_time": "2024-11-13T23:26:10.435Z"
   },
   {
    "duration": 6,
    "start_time": "2024-11-13T23:26:59.249Z"
   },
   {
    "duration": 11,
    "start_time": "2024-11-13T23:27:33.428Z"
   },
   {
    "duration": 5,
    "start_time": "2024-11-13T23:28:35.182Z"
   },
   {
    "duration": 13,
    "start_time": "2024-11-13T23:30:01.707Z"
   },
   {
    "duration": 16,
    "start_time": "2024-11-13T23:30:16.210Z"
   },
   {
    "duration": 12,
    "start_time": "2024-11-13T23:30:19.486Z"
   },
   {
    "duration": 4,
    "start_time": "2024-11-13T23:30:40.594Z"
   },
   {
    "duration": 16,
    "start_time": "2024-11-13T23:31:34.703Z"
   },
   {
    "duration": 15,
    "start_time": "2024-11-13T23:32:18.976Z"
   },
   {
    "duration": 7,
    "start_time": "2024-11-13T23:32:42.072Z"
   },
   {
    "duration": 139,
    "start_time": "2024-11-13T23:35:18.109Z"
   },
   {
    "duration": 7,
    "start_time": "2024-11-13T23:35:22.829Z"
   },
   {
    "duration": 53,
    "start_time": "2024-11-13T23:35:25.286Z"
   },
   {
    "duration": 55,
    "start_time": "2024-11-13T23:36:04.671Z"
   },
   {
    "duration": 5,
    "start_time": "2024-11-13T23:38:39.627Z"
   },
   {
    "duration": 7,
    "start_time": "2024-11-13T23:38:53.379Z"
   },
   {
    "duration": 6,
    "start_time": "2024-11-13T23:39:00.408Z"
   },
   {
    "duration": 23,
    "start_time": "2024-11-13T23:41:15.821Z"
   },
   {
    "duration": 18,
    "start_time": "2024-11-13T23:41:45.343Z"
   },
   {
    "duration": 9,
    "start_time": "2024-11-13T23:42:26.154Z"
   },
   {
    "duration": 10,
    "start_time": "2024-11-13T23:42:48.254Z"
   },
   {
    "duration": 19,
    "start_time": "2024-11-13T23:43:16.232Z"
   },
   {
    "duration": 15,
    "start_time": "2024-11-13T23:45:31.549Z"
   },
   {
    "duration": 129,
    "start_time": "2024-11-13T23:47:17.846Z"
   },
   {
    "duration": 20,
    "start_time": "2024-11-13T23:47:46.901Z"
   },
   {
    "duration": 14,
    "start_time": "2024-11-13T23:48:28.247Z"
   },
   {
    "duration": 15,
    "start_time": "2024-11-13T23:48:52.886Z"
   },
   {
    "duration": 23,
    "start_time": "2024-11-13T23:49:11.004Z"
   },
   {
    "duration": 10,
    "start_time": "2024-11-13T23:49:37.434Z"
   },
   {
    "duration": 36,
    "start_time": "2024-11-13T23:49:56.752Z"
   },
   {
    "duration": 39,
    "start_time": "2024-11-13T23:50:08.014Z"
   },
   {
    "duration": 18,
    "start_time": "2024-11-13T23:51:44.079Z"
   },
   {
    "duration": 17,
    "start_time": "2024-11-13T23:51:53.847Z"
   },
   {
    "duration": 9,
    "start_time": "2024-11-13T23:52:08.052Z"
   },
   {
    "duration": 16,
    "start_time": "2024-11-13T23:52:10.632Z"
   },
   {
    "duration": 4,
    "start_time": "2024-11-13T23:52:25.156Z"
   },
   {
    "duration": 31,
    "start_time": "2024-11-13T23:53:51.521Z"
   },
   {
    "duration": 7,
    "start_time": "2024-11-13T23:54:22.739Z"
   }
  ],
  "colab": {
   "provenance": []
  },
  "kernelspec": {
   "display_name": "Python 3",
   "language": "python",
   "name": "python3"
  },
  "language_info": {
   "codemirror_mode": {
    "name": "ipython",
    "version": 3
   },
   "file_extension": ".py",
   "mimetype": "text/x-python",
   "name": "python",
   "nbconvert_exporter": "python",
   "pygments_lexer": "ipython3",
   "version": "3.13.1"
  },
  "toc": {
   "base_numbering": 1,
   "nav_menu": {},
   "number_sections": true,
   "sideBar": true,
   "skip_h1_title": false,
   "title_cell": "Table of Contents",
   "title_sidebar": "Contents",
   "toc_cell": false,
   "toc_position": {
    "height": "calc(100% - 180px)",
    "left": "10px",
    "top": "150px",
    "width": "167.8px"
   },
   "toc_section_display": true,
   "toc_window_display": true
  }
 },
 "nbformat": 4,
 "nbformat_minor": 1
}
